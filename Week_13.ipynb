{
  "nbformat": 4,
  "nbformat_minor": 0,
  "metadata": {
    "colab": {
      "provenance": [],
      "authorship_tag": "ABX9TyPcA55VHHSh9uNRIpuoadMd",
      "include_colab_link": true
    },
    "kernelspec": {
      "name": "python3",
      "display_name": "Python 3"
    },
    "language_info": {
      "name": "python"
    }
  },
  "cells": [
    {
      "cell_type": "markdown",
      "metadata": {
        "id": "view-in-github",
        "colab_type": "text"
      },
      "source": [
        "<a href=\"https://colab.research.google.com/github/Nadinerachma/Agoritma_pemograman/blob/main/Week_13.ipynb\" target=\"_parent\"><img src=\"https://colab.research.google.com/assets/colab-badge.svg\" alt=\"Open In Colab\"/></a>"
      ]
    },
    {
      "cell_type": "code",
      "execution_count": null,
      "metadata": {
        "colab": {
          "base_uri": "https://localhost:8080/"
        },
        "id": "gUog14h6unwo",
        "outputId": "1ca973ff-14d3-4e20-e802-fb972460a48d"
      },
      "outputs": [
        {
          "output_type": "stream",
          "name": "stdout",
          "text": [
            "Nama: Bolpoint, Stok: 10, Harga Satuan: Rp. 2000, Harga Total: Rp. 20000\n",
            "Nama: Pensil, Stok: 10, Harga Satuan: Rp. 1000, Harga Total: Rp. 10000\n",
            "Nama: Penghapus, Stok: 10, Harga Satuan: Rp. 500, Harga Total: Rp. 5000\n"
          ]
        }
      ],
      "source": [
        "class AlatTulis:\n",
        "    def __init__(self, nama, stok, harga_satuan):\n",
        "        self.nama = nama\n",
        "        self.stok = stok\n",
        "        self.harga_satuan = harga_satuan\n",
        "        self.harga_total = stok * harga_satuan\n",
        "\n",
        "#Setter untuk nama, stok, harga satuan, dan harga total\n",
        "    def set_nama(self, nama):\n",
        "        self.nama = nama\n",
        "\n",
        "    def set_stok(self, stok):\n",
        "        self.stok = stok\n",
        "        self.harga_total = self.stok * self.harga_satuan\n",
        "\n",
        "    def set_harga_satuan(self, harga_satuan):\n",
        "        self.harga_satuan = harga_satuan\n",
        "        self.harga_total = self.stok * self.harga_satuan\n",
        "\n",
        "#Getter untuk nama, stok, harga satuan, dan harga total\n",
        "    def get_nama(self):\n",
        "        return self.nama\n",
        "\n",
        "    def get_stok(self):\n",
        "        return self.stok\n",
        "\n",
        "    def get_harga_satuan(self):\n",
        "        return self.harga_satuan\n",
        "\n",
        "    def get_harga_total(self):\n",
        "        return self.harga_total\n",
        "\n",
        "    def tampilkan_data(self):\n",
        "        return f\"Nama: {self.nama}, Stok: {self.stok}, Harga Satuan: Rp. {self.harga_satuan}, Harga Total: Rp. {self.harga_total}\"\n",
        "\n",
        "bolpoint = AlatTulis(\"Bolpoint\", 10, 2000)\n",
        "pensil = AlatTulis(\"Pensil\", 10, 1000)\n",
        "penghapus = AlatTulis(\"Penghapus\", 10, 500)\n",
        "\n",
        "#Menampilkan data alat tulis\n",
        "print(bolpoint.tampilkan_data())\n",
        "print(pensil.tampilkan_data())\n",
        "print(penghapus.tampilkan_data())\n"
      ]
    }
  ]
}