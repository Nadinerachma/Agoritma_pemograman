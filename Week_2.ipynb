{
  "nbformat": 4,
  "nbformat_minor": 0,
  "metadata": {
    "colab": {
      "provenance": [],
      "authorship_tag": "ABX9TyN/jq+Vc4ZOjpXyjH95UETg",
      "include_colab_link": true
    },
    "kernelspec": {
      "name": "python3",
      "display_name": "Python 3"
    },
    "language_info": {
      "name": "python"
    }
  },
  "cells": [
    {
      "cell_type": "markdown",
      "metadata": {
        "id": "view-in-github",
        "colab_type": "text"
      },
      "source": [
        "<a href=\"https://colab.research.google.com/github/Nadinerachma/Agoritma_pemograman/blob/main/Week_2.ipynb\" target=\"_parent\"><img src=\"https://colab.research.google.com/assets/colab-badge.svg\" alt=\"Open In Colab\"/></a>"
      ]
    },
    {
      "cell_type": "markdown",
      "source": [
        "Week Exercise 1"
      ],
      "metadata": {
        "id": "nNXWA4C6ALrt"
      }
    },
    {
      "cell_type": "code",
      "source": [
        "#Perbaiki script sehingga tidak muncul error\n",
        "panjang = 20.5\n",
        "lebar = 25\n",
        "tinggi = 10\n",
        "\n",
        "keliling = 2 * (panjang + lebar)\n",
        "luas = panjang * lebar\n",
        "volume = panjang * lebar * tinggi\n",
        "\n",
        "print (\"Panjang =\", panjang)\n",
        "print (\"Lebar =\", lebar)\n",
        "print (\"Tinggi =\", tinggi)\n",
        "print (\"Keliling =\", keliling)\n",
        "print (\"Volume =\", volume)"
      ],
      "metadata": {
        "id": "k3giK2rwAPLC",
        "colab": {
          "base_uri": "https://localhost:8080/"
        },
        "outputId": "7f738e40-2a88-4ef9-8019-444ef1b3b23b"
      },
      "execution_count": null,
      "outputs": [
        {
          "output_type": "stream",
          "name": "stdout",
          "text": [
            "Panjang = 20.5\n",
            "Lebar = 25\n",
            "Tinggi = 10\n",
            "Keliling = 91.0\n",
            "Volume = 5125.0\n"
          ]
        }
      ]
    },
    {
      "cell_type": "code",
      "source": [],
      "metadata": {
        "id": "i5nFoF0VHAkD"
      },
      "execution_count": null,
      "outputs": []
    },
    {
      "cell_type": "markdown",
      "source": [
        "# Week Exercise **2**"
      ],
      "metadata": {
        "id": "vZnKa6ClI0p5"
      }
    },
    {
      "cell_type": "code",
      "source": [
        "#Buat program untuk menampilkan data\n",
        "nilai_Shafira = (85 + 75)/2\n",
        "print(\"Nilai Shafira\", nilai_Shafira)\n",
        "\n",
        "#Jumlah nilai Hanif dan Andi untk semua mata kuliah\n",
        "nilai_Hanif = (75+90)\n",
        "nilai_Andi = (70+75)\n",
        "jumlah_nilai_Hanif_Andi = nilai_Hanif + nilai_Andi\n",
        "print(\"jumlah nilai Hanif dan Andi:\", jumlah_nilai_Hanif_Andi)\n",
        "\n",
        "#Rata-rata nilai Widya, Dhanar, Hikma dan Nedia pada masing-masing mata kuliah\n",
        "rata_rata_nilai_Widya_Dhanar_Hikma_Nedia_masing_masing_matkul_Kalkulus = (85+85+80+90)/4\n",
        "print(\"rata-rata nilai Kalkulus dari 4 mahasiswa\", rata_rata_nilai_Widya_Dhanar_Hikma_Nedia_masing_masing_matkul_Kalkulus)\n",
        "\n",
        "rata_rata_nilai_Widya_Dhanar_Hikma_Nedia_masing_masing_matkul_Statiska = (85+85+75+90)/4\n",
        "print(\"rata-rata nilai Statiska dari 4 mahasiswa\", rata_rata_nilai_Widya_Dhanar_Hikma_Nedia_masing_masing_matkul_Statiska)\n",
        "\n",
        "#Rata-rata nilai Kalkulus 1 pada semua mahasiswa\n",
        "rata_rata_nilai_Kalkulus_1_dari_semua_mahasiswa = (85+80+75+95+85+75+70+85+80)/9\n",
        "print(\"rata-rata nilai Kalkulus 1\", rata_rata_nilai_Kalkulus_1_dari_semua_mahasiswa)\n",
        "\n",
        "#Rata-rata nilai Metode Statiska pada semua mahasiswa\n",
        "rata_rata_nilai_Metode_Statiska_dari_semua_mahasiswa = (75+90+80+80+85+90+75+85+75)/9\n",
        "print(\"rata-rata nilai Metode Statiska\", rata_rata_nilai_Metode_Statiska_dari_semua_mahasiswa)"
      ],
      "metadata": {
        "colab": {
          "base_uri": "https://localhost:8080/"
        },
        "id": "1dIaBi93I4b6",
        "outputId": "21772d23-08cd-4f6c-c825-55f5ffc6e5f3"
      },
      "execution_count": null,
      "outputs": [
        {
          "output_type": "stream",
          "name": "stdout",
          "text": [
            "Nilai Shafira 80.0\n",
            "jumlah nilai Hanif dan Andi: 310\n",
            "rata-rata nilai Kalkulus dari 4 mahasiswa 85.0\n",
            "rata-rata nilai Statiska dari 4 mahasiswa 83.75\n",
            "rata-rata nilai Kalkulus 1 81.11111111111111\n",
            "rata-rata nilai Metode Statiska 81.66666666666667\n"
          ]
        }
      ]
    },
    {
      "cell_type": "code",
      "source": [],
      "metadata": {
        "id": "ZQpj-ch8Puxr"
      },
      "execution_count": null,
      "outputs": []
    },
    {
      "cell_type": "markdown",
      "source": [
        "# Week Exercise **3**"
      ],
      "metadata": {
        "id": "aPmeBB99Spqc"
      }
    },
    {
      "cell_type": "code",
      "source": [],
      "metadata": {
        "id": "SBDpnXz_cxCJ"
      },
      "execution_count": null,
      "outputs": []
    },
    {
      "cell_type": "code",
      "source": [
        "#Diketahui Dwi adalah seorang karyawan pabrik swasta yang telah bekerja selama 10 tahun. Setiap hari Dwi bekerja selama 8 jam. Prosedur penerimaan honor dari perusahaan ditentukan dengan cara jumlah jam masuk dikali dengan Rp 30.000,-.\n",
        "\n",
        "#Buat sebuah program untuk menampilkan data berikut\n",
        "jumlah_Dwi_bekerja_sehari = 8\n",
        "Penerimaan_honor = 30000\n",
        "Dwi_tidak_bekerja = 3\n",
        "Dwi_bekerja_dalam_sebulan = 31\n",
        "\n",
        "#Data pada bulan Agustus jika Dwi tidak masuk kerja selama 3 hari, berapa gaji yang diterima oleh Dwi\n",
        "#Dwi telah bekerja pada bulan Agustus\n",
        "gaji_Dwi_pada_bulan_Agustus_jika_Dwi_tidak_masuk_kerja_selama_3_hari = Dwi_bekerja_dalam_sebulan - Dwi_tidak_bekerja\n",
        "print(\"Dwi telah bekerja pada bulan Agustus selama\", gaji_Dwi_pada_bulan_Agustus_jika_Dwi_tidak_masuk_kerja_selama_3_hari)\n",
        "\n",
        "\n",
        "#Gaji yang diterima Dwi selama 28 hari\n",
        "gaji_yang_diterima_Dwi_setelah_28_hari = 28 * jumlah_Dwi_bekerja_sehari * Penerimaan_honor\n",
        "print(\"Gaji yang diterima Dwi setelah 28 hari sebesar\", gaji_yang_diterima_Dwi_setelah_28_hari)\n",
        "\n",
        "\n",
        "#Menentukan jumlah tunjangan yang diterima Dwi pada bulan Agustus\n",
        "Tunjangan_karyawan_lebih_dari_5_tahun = 10/100 #atau 10%\n",
        "gaji_yang_diterima_Dwi_setelah_28_hari = 6720000\n",
        "Tunjangan_karyawan_yang_bekerja_lebih_dari_5_tahun = gaji_yang_diterima_Dwi_setelah_28_hari * Tunjangan_karyawan_lebih_dari_5_tahun\n",
        "print(\"Jumlah tunjangan yang diterima Dwi pada bulan Agustus\", Tunjangan_karyawan_yang_bekerja_lebih_dari_5_tahun)\n",
        "\n",
        "#Gaji total yang diterima oleh Dwi pada bulan Agustus bila mendapat tugas lembur selama 5 jam (upah lembur Rp 10.000,- per jam)\n",
        "Tugas_lembur_Dwi = 5\n",
        "Upah_lembur = 10000\n",
        "gaji_yang_diterima_Dwi_setelah_28_hari = 6720000\n",
        "\n",
        "Total_lembur_Dwi = Tugas_lembur_Dwi * Upah_lembur\n",
        "Total_lembur_Dwi = 50000\n",
        "\n",
        "Total_gaji_Dwi_pada_bulan_Agustus = gaji_yang_diterima_Dwi_setelah_28_hari + Total_lembur_Dwi + Tunjangan_karyawan_yang_bekerja_lebih_dari_5_tahun\n",
        "print(\"Gaji total yang diterima Dwi pada bulan Agustus sebesar\", Total_gaji_Dwi_pada_bulan_Agustus)\n",
        "\n",
        "\n"
      ],
      "metadata": {
        "colab": {
          "base_uri": "https://localhost:8080/"
        },
        "id": "GGHJqmAtSuOJ",
        "outputId": "dc7264e1-785b-4169-b89f-8aac88af9d75"
      },
      "execution_count": 6,
      "outputs": [
        {
          "output_type": "stream",
          "name": "stdout",
          "text": [
            "Dwi telah bekerja pada bulan Agustus selama 28\n",
            "Gaji yang diterima Dwi setelah 28 hari sebesar 6720000\n",
            "Jumlah tunjangan yang diterima Dwi pada bulan Agustus 672000.0\n",
            "Gaji total yang diterima Dwi pada bulan Agustus sebesar 7442000.0\n"
          ]
        }
      ]
    },
    {
      "cell_type": "code",
      "source": [],
      "metadata": {
        "id": "iG9EMBaluNI1"
      },
      "execution_count": null,
      "outputs": []
    },
    {
      "cell_type": "code",
      "source": [],
      "metadata": {
        "id": "l-fdjpSqVCI5"
      },
      "execution_count": null,
      "outputs": []
    }
  ]
}