{
  "nbformat": 4,
  "nbformat_minor": 0,
  "metadata": {
    "colab": {
      "provenance": [],
      "authorship_tag": "ABX9TyNoTHNnHtIchcU5CVktTttW",
      "include_colab_link": true
    },
    "kernelspec": {
      "name": "python3",
      "display_name": "Python 3"
    },
    "language_info": {
      "name": "python"
    }
  },
  "cells": [
    {
      "cell_type": "markdown",
      "metadata": {
        "id": "view-in-github",
        "colab_type": "text"
      },
      "source": [
        "<a href=\"https://colab.research.google.com/github/Nadinerachma/Agoritma_pemograman/blob/main/Week_3_ulang.ipynb\" target=\"_parent\"><img src=\"https://colab.research.google.com/assets/colab-badge.svg\" alt=\"Open In Colab\"/></a>"
      ]
    },
    {
      "cell_type": "code",
      "execution_count": 1,
      "metadata": {
        "id": "A40G-oPHKkrw"
      },
      "outputs": [],
      "source": [
        "#Buat sebuah file.txt yang berisi biodata Anda meliputi : nama, program studi, NPM, alamat, hobi, dan email.\n",
        "with open('/biodata_Nadinerachmaw.txt', 'w') as writefile:\n",
        "  writefile.write(\"This is line A\")"
      ]
    },
    {
      "cell_type": "code",
      "source": [
        "#Read file\n",
        "with open('/biodata_Nadinerachmaw.txt', 'r') as testwritefile:\n",
        "  print(testwritefile.read())"
      ],
      "metadata": {
        "colab": {
          "base_uri": "https://localhost:8080/"
        },
        "id": "3PTPAirINqve",
        "outputId": "60328aeb-2c65-4aa7-f315-41daea6bb912"
      },
      "execution_count": 3,
      "outputs": [
        {
          "output_type": "stream",
          "name": "stdout",
          "text": [
            "This is line A\n",
            "Nama          : Nadine Rachma Wijaya\n",
            "Program Studi : S1 Teknologi Informasi\n",
            "NPM           : 2440506071\n",
            "Alamat        : Dusun Krajan RT/RW 03/02 Kecamatan Bandongan Kabupaten Magelang\n",
            "Hobi          : Menulis dan Memasak\n",
            "Email         : nadinerachmawijaya@gmail.com\n"
          ]
        }
      ]
    },
    {
      "cell_type": "code",
      "source": [
        "with open('/biodata_Nadinerachmaw.txt', 'r') as file1:\n",
        "  content = file1.read()\n",
        "  print(content)\n",
        "  if len(content) > 4:\n",
        "    print(content[1])\n",
        "    print(content[2])\n",
        "    print(content[3])\n",
        "    print(content[7])\n",
        "  else:\n",
        "    print(\"Isi file tidak cukup panjang untuk menampilkan semua karakter.\")"
      ],
      "metadata": {
        "colab": {
          "base_uri": "https://localhost:8080/"
        },
        "id": "gUUVwlbvOUTT",
        "outputId": "820e81d0-7868-4f9e-a376-066f567c4a42"
      },
      "execution_count": 14,
      "outputs": [
        {
          "output_type": "stream",
          "name": "stdout",
          "text": [
            "This is line A\n",
            "Nama          : Nadine Rachma Wijaya\n",
            "Program Studi : S1 Teknologi Informasi\n",
            "NPM           : 2440506071\n",
            "Alamat        : Dusun Krajan RT/RW 03/02 Kecamatan Bandongan Kabupaten Magelang\n",
            "Hobi          : Menulis dan Memasak\n",
            "Email         : nadinerachmawijaya@gmail.com\n",
            "h\n",
            "i\n",
            "s\n",
            " \n"
          ]
        }
      ]
    },
    {
      "cell_type": "code",
      "source": [
        "with open('/biodata_Nadinerachmaw.txt', 'r') as file1:\n",
        "  biodata_Nadinerachmaw = file1.read()\n",
        "\n",
        "with open('biodata_Nadinerachmaw_2.txt', 'w') as file2:\n",
        "  file2.write(biodata_Nadinerachmaw)\n",
        "\n",
        "print(\"File biodata_Nadinerachmaw_2.txt berhasil dibuat!\")"
      ],
      "metadata": {
        "colab": {
          "base_uri": "https://localhost:8080/"
        },
        "id": "1dSf6BrBYVRb",
        "outputId": "070ff00a-60ff-485d-8c6c-0c2ce4de4a65"
      },
      "execution_count": 10,
      "outputs": [
        {
          "output_type": "stream",
          "name": "stdout",
          "text": [
            "File biodata_Nadinerachmaw_2.txt berhasil dibuat!\n"
          ]
        }
      ]
    },
    {
      "cell_type": "markdown",
      "source": [
        "**Weekly Exercise 2**"
      ],
      "metadata": {
        "id": "9fEnd2soR2bi"
      }
    },
    {
      "cell_type": "code",
      "source": [
        "print(\"Selamat datang di Toko Maju Jaya\")\n",
        "print(\"Senin, 4 September 2023       13.05\")\n",
        "print(\" \")\n",
        "\n",
        "print(\"DAFTAR BELANJA:\")\n",
        "item1 = \"Sabun\"\n",
        "item2 = \"Shampo\"\n",
        "item3 = \"Mie instant\"\n",
        "item4 = \"Detergen\"\n",
        "harga1 = 10000\n",
        "harga2 = 15000\n",
        "harga3 = 5000\n",
        "harga4 = 17500\n",
        "\n",
        "total = harga1 + harga2 + harga3 + harga4\n",
        "\n",
        "# Menggunakan format string yang benar\n",
        "print(f\"{item1}         = Rp {harga1}\")\n",
        "print(f\"{item2}         = Rp {harga2}\")\n",
        "print(f\"{item3}         = Rp {harga3}\")\n",
        "print(f\"{item4}         = Rp {harga4}\")\n",
        "\n",
        "print(\" \")\n",
        "print(f\"Total = Rp {total}\")\n",
        "\n",
        "# Membuat dan menulis ke file 'Kuitansi.txt'\n",
        "with open('Kuitansi.txt', 'w') as writefile:\n",
        "    writefile.write(\"Selamat Datang di Toko Maju Jaya\\n\")\n",
        "    writefile.write(\"\\n\")\n",
        "    writefile.write(\"Kuitansi - 4 September 2023\\n\")\n",
        "    writefile.write(\"\\n\")\n",
        "    writefile.write(f\"{item1} = Rp {harga1}\\n\")\n",
        "    writefile.write(f\"{item2} = Rp {harga2}\\n\")\n",
        "    writefile.write(f\"{item3} = Rp {harga3}\\n\")\n",
        "    writefile.write(f\"{item4} = Rp {harga4}\\n\")\n",
        "    writefile.write(\"\\n\")\n",
        "    writefile.write(f\"Total Belanja = Rp {total}\\n\")\n"
      ],
      "metadata": {
        "colab": {
          "base_uri": "https://localhost:8080/"
        },
        "id": "-gdoUJxRR7yT",
        "outputId": "691cc4ff-b576-41c3-ae39-039aec7da184"
      },
      "execution_count": 11,
      "outputs": [
        {
          "output_type": "stream",
          "name": "stdout",
          "text": [
            "Selamat datang di Toko Maju Jaya\n",
            "Senin, 4 September 2023       13.05\n",
            " \n",
            "DAFTAR BELANJA:\n",
            "Sabun         = Rp 10000\n",
            "Shampo         = Rp 15000\n",
            "Mie instant         = Rp 5000\n",
            "Detergen         = Rp 17500\n",
            " \n",
            "Total = Rp 47500\n"
          ]
        }
      ]
    },
    {
      "cell_type": "code",
      "source": [],
      "metadata": {
        "id": "EX5ubg_fSJOP"
      },
      "execution_count": null,
      "outputs": []
    }
  ]
}