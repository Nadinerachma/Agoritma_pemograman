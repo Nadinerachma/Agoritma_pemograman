{
  "nbformat": 4,
  "nbformat_minor": 0,
  "metadata": {
    "colab": {
      "provenance": [],
      "authorship_tag": "ABX9TyNpiPkNx2SY0SLOy0RUfVWj",
      "include_colab_link": true
    },
    "kernelspec": {
      "name": "python3",
      "display_name": "Python 3"
    },
    "language_info": {
      "name": "python"
    }
  },
  "cells": [
    {
      "cell_type": "markdown",
      "metadata": {
        "id": "view-in-github",
        "colab_type": "text"
      },
      "source": [
        "<a href=\"https://colab.research.google.com/github/Nadinerachma/Agoritma_pemograman/blob/main/Week_11.ipynb\" target=\"_parent\"><img src=\"https://colab.research.google.com/assets/colab-badge.svg\" alt=\"Open In Colab\"/></a>"
      ]
    },
    {
      "cell_type": "code",
      "source": [
        "import matematika.py\n",
        "\n",
        "jari_jari = 7\n",
        "luas_lingkaran = matematika.luas_lingkaran(jari_jari)\n",
        "print(f\"Luas lingkaran dengan jari-jari {jari_jari} adalah {luas_lingkaran:.2f}\")\n",
        "\n",
        "sisi = 5\n",
        "luas_persegi = matematika.luas_persegi(sisi)\n",
        "print(f\"Luas persegi dengan sisi {sisi} adalah {luas_persegi:.2f}\")\n"
      ],
      "metadata": {
        "id": "w7baN5toR5jE",
        "colab": {
          "base_uri": "https://localhost:8080/",
          "height": 383
        },
        "outputId": "01ad298c-c8cf-42a1-9ef9-03bb19cb4a37"
      },
      "execution_count": 2,
      "outputs": [
        {
          "output_type": "error",
          "ename": "ModuleNotFoundError",
          "evalue": "No module named 'matematika'",
          "traceback": [
            "\u001b[0;31m---------------------------------------------------------------------------\u001b[0m",
            "\u001b[0;31mModuleNotFoundError\u001b[0m                       Traceback (most recent call last)",
            "\u001b[0;32m<ipython-input-2-03683c82910a>\u001b[0m in \u001b[0;36m<cell line: 1>\u001b[0;34m()\u001b[0m\n\u001b[0;32m----> 1\u001b[0;31m \u001b[0;32mimport\u001b[0m \u001b[0mmatematika\u001b[0m\u001b[0;34m.\u001b[0m\u001b[0mpy\u001b[0m\u001b[0;34m\u001b[0m\u001b[0;34m\u001b[0m\u001b[0m\n\u001b[0m\u001b[1;32m      2\u001b[0m \u001b[0;34m\u001b[0m\u001b[0m\n\u001b[1;32m      3\u001b[0m \u001b[0mjari_jari\u001b[0m \u001b[0;34m=\u001b[0m \u001b[0;36m7\u001b[0m\u001b[0;34m\u001b[0m\u001b[0;34m\u001b[0m\u001b[0m\n\u001b[1;32m      4\u001b[0m \u001b[0mluas_lingkaran\u001b[0m \u001b[0;34m=\u001b[0m \u001b[0mmatematika\u001b[0m\u001b[0;34m.\u001b[0m\u001b[0mluas_lingkaran\u001b[0m\u001b[0;34m(\u001b[0m\u001b[0mjari_jari\u001b[0m\u001b[0;34m)\u001b[0m\u001b[0;34m\u001b[0m\u001b[0;34m\u001b[0m\u001b[0m\n\u001b[1;32m      5\u001b[0m \u001b[0mprint\u001b[0m\u001b[0;34m(\u001b[0m\u001b[0;34mf\"Luas lingkaran dengan jari-jari {jari_jari} adalah {luas_lingkaran:.2f}\"\u001b[0m\u001b[0;34m)\u001b[0m\u001b[0;34m\u001b[0m\u001b[0;34m\u001b[0m\u001b[0m\n",
            "\u001b[0;31mModuleNotFoundError\u001b[0m: No module named 'matematika'",
            "",
            "\u001b[0;31m---------------------------------------------------------------------------\u001b[0;32m\nNOTE: If your import is failing due to a missing package, you can\nmanually install dependencies using either !pip or !apt.\n\nTo view examples of installing some common dependencies, click the\n\"Open Examples\" button below.\n\u001b[0;31m---------------------------------------------------------------------------\u001b[0m\n"
          ],
          "errorDetails": {
            "actions": [
              {
                "action": "open_url",
                "actionText": "Open Examples",
                "url": "/notebooks/snippets/importing_libraries.ipynb"
              }
            ]
          }
        }
      ]
    },
    {
      "cell_type": "code",
      "source": [
        "import math\n",
        "\n",
        "angka = 16\n",
        "akar_kuadrat = math.sqrt(angka)\n",
        "print(f\"Akar kuadrat dari {angka} adalah {akar_kuadrat}\")\n",
        "\n",
        "nilai = 2\n",
        "eksponensial = math.exp(nilai)\n",
        "print(f\"Nilai eksponensial dari {nilai} adalah {eksponensial}\")\n",
        "\n",
        "angka_log = 10\n",
        "log_natural = math.log(angka_log)\n",
        "print(f\"Logaritma natural dari {angka_log} adalah {log_natural}\")\n",
        "\n",
        "angka_acak = 3.14\n",
        "ceil_angka = math.ceil(angka_acak)\n",
        "print(f\"Bilangan {angka_acak} jika dibulatkan ke atas menjadi {ceil_angka}\")\n",
        "\n",
        "sudut = 30\n",
        "sudut_radian = math.radians(sudut)\n",
        "sinus = math.sin(sudut_radian)\n",
        "print(f\"Sinus dari sudut {sudut} derajat adalah {sinus}\")\n"
      ],
      "metadata": {
        "colab": {
          "base_uri": "https://localhost:8080/"
        },
        "id": "ce0DdOThhioZ",
        "outputId": "ee63d966-d7b4-442b-f6ac-1a1485334a21"
      },
      "execution_count": 3,
      "outputs": [
        {
          "output_type": "stream",
          "name": "stdout",
          "text": [
            "Akar kuadrat dari 16 adalah 4.0\n",
            "Nilai eksponensial dari 2 adalah 7.38905609893065\n",
            "Logaritma natural dari 10 adalah 2.302585092994046\n",
            "Bilangan 3.14 jika dibulatkan ke atas menjadi 4\n",
            "Sinus dari sudut 30 derajat adalah 0.49999999999999994\n"
          ]
        }
      ]
    }
  ]
}