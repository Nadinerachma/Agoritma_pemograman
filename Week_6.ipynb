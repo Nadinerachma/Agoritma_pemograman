{
  "nbformat": 4,
  "nbformat_minor": 0,
  "metadata": {
    "colab": {
      "provenance": [],
      "authorship_tag": "ABX9TyPMRUSHYHS+gPNfuTHSokyl",
      "include_colab_link": true
    },
    "kernelspec": {
      "name": "python3",
      "display_name": "Python 3"
    },
    "language_info": {
      "name": "python"
    }
  },
  "cells": [
    {
      "cell_type": "markdown",
      "metadata": {
        "id": "view-in-github",
        "colab_type": "text"
      },
      "source": [
        "<a href=\"https://colab.research.google.com/github/Nadinerachma/Agoritma_pemograman/blob/main/Week_6.ipynb\" target=\"_parent\"><img src=\"https://colab.research.google.com/assets/colab-badge.svg\" alt=\"Open In Colab\"/></a>"
      ]
    },
    {
      "cell_type": "markdown",
      "source": [
        "# Weekly Exercise 1"
      ],
      "metadata": {
        "id": "BXOZPwEDE2wH"
      }
    },
    {
      "cell_type": "code",
      "source": [
        "range(10)"
      ],
      "metadata": {
        "colab": {
          "base_uri": "https://localhost:8080/"
        },
        "id": "fUBz3iJ2FM7d",
        "outputId": "304efe0e-a8bf-446e-8800-b736134f828e"
      },
      "execution_count": null,
      "outputs": [
        {
          "output_type": "execute_result",
          "data": {
            "text/plain": [
              "range(0, 10)"
            ]
          },
          "metadata": {},
          "execution_count": 2
        }
      ]
    },
    {
      "cell_type": "code",
      "execution_count": null,
      "metadata": {
        "colab": {
          "base_uri": "https://localhost:8080/"
        },
        "id": "_rYKfHGsBkHW",
        "outputId": "e7d9d37f-d61c-49b2-e08c-a6c7657a682c"
      },
      "outputs": [
        {
          "output_type": "stream",
          "name": "stdout",
          "text": [
            "Masukkan Tahun: 10\n",
            "         * \n",
            "        * * \n",
            "       * * * \n",
            "      * * * * \n",
            "     * * * * * \n",
            "    * * * * * * \n",
            "   * * * * * * * \n",
            "  * * * * * * * * \n",
            " * * * * * * * * * \n",
            "* * * * * * * * * * \n"
          ]
        }
      ],
      "source": [
        "memasukkan_angka = int(input(\"Masukkan Angka: \"))\n",
        "\n",
        "for i in range(memasukkan_angka):\n",
        "  print(\" \" * (memasukkan_angka - i - 1) + \"* \" * (i + 1))\n"
      ]
    },
    {
      "cell_type": "code",
      "source": [
        "masukkan_angka = int(input(\"Masukkan Angka: \"))\n",
        "\n",
        "for i in range(masukkan_angka):\n",
        "  print(\" \" * (masukkan_angka - i - 1) + \"* \" * (i + 1))"
      ],
      "metadata": {
        "colab": {
          "base_uri": "https://localhost:8080/"
        },
        "id": "n47bCi1iD5ao",
        "outputId": "a9d66f8e-7ebd-480f-de3a-3535774039a8"
      },
      "execution_count": null,
      "outputs": [
        {
          "output_type": "stream",
          "name": "stdout",
          "text": [
            "Masukkan Angka: 5\n",
            "    * \n",
            "   * * \n",
            "  * * * \n",
            " * * * * \n",
            "* * * * * \n"
          ]
        }
      ]
    },
    {
      "cell_type": "markdown",
      "source": [
        "# Weekly Exercise 2"
      ],
      "metadata": {
        "id": "YpBbSYysFzql"
      }
    },
    {
      "cell_type": "code",
      "source": [
        "masukkan_angka = int(input(\"Masukkan Angka: \"))\n",
        "\n",
        "for i in range(masukkan_angka):\n",
        "  for j in range(masukkan_angka-i+1):\n",
        "    print(end=\" \")\n",
        "\n",
        "  for j in range(i+1):\n",
        "    if j==0 or i==0:\n",
        "      angka = 1\n",
        "    else:\n",
        "      angka = angka * (i-j+1)/j\n",
        "    print(int(angka), end=\" \")\n",
        "  print()"
      ],
      "metadata": {
        "colab": {
          "base_uri": "https://localhost:8080/"
        },
        "id": "QTlALRBLHsIL",
        "outputId": "2661e743-9aa0-48ff-faba-7edd59e37628"
      },
      "execution_count": null,
      "outputs": [
        {
          "output_type": "stream",
          "name": "stdout",
          "text": [
            "Masukkan Angka: 5\n",
            "      1 \n",
            "     1 1 \n",
            "    1 2 1 \n",
            "   1 3 3 1 \n",
            "  1 4 6 4 1 \n"
          ]
        }
      ]
    },
    {
      "cell_type": "markdown",
      "source": [
        "# Weekly Exercise 3"
      ],
      "metadata": {
        "id": "fTLKS4fJI8NX"
      }
    },
    {
      "cell_type": "code",
      "source": [
        "masukkan_angka = int(input(\"Masukkan Angka: \"))\n",
        "\n",
        "if masukkan_angka <= 0:\n",
        "  hasil = 0\n",
        "else:\n",
        "  hasil = 2**(masukkan_angka-1)\n",
        "\n",
        "print(hasil)"
      ],
      "metadata": {
        "colab": {
          "base_uri": "https://localhost:8080/"
        },
        "id": "4XSUShYJIKC7",
        "outputId": "1bcb7c87-e410-4a9f-b88f-db366317b4d4"
      },
      "execution_count": null,
      "outputs": [
        {
          "output_type": "stream",
          "name": "stdout",
          "text": [
            "Masukkan Angka: 10\n",
            "512\n"
          ]
        }
      ]
    },
    {
      "cell_type": "code",
      "source": [
        "masukkan_angka = int(input(\"Masukkan Angka: \"))\n",
        "\n",
        "if masukkan_angka <= 0:\n",
        "  hasil = 0\n",
        "else:\n",
        "  hasil = 2**(masukkan_angka-1)\n",
        "\n",
        "print(hasil)\n"
      ],
      "metadata": {
        "colab": {
          "base_uri": "https://localhost:8080/"
        },
        "id": "cLYubufjJOcC",
        "outputId": "02be40e5-ec5d-41b2-a134-cda5c0a6c1cb"
      },
      "execution_count": null,
      "outputs": [
        {
          "output_type": "stream",
          "name": "stdout",
          "text": [
            "Masukkan Angka: 5\n",
            "16\n"
          ]
        }
      ]
    },
    {
      "cell_type": "code",
      "source": [],
      "metadata": {
        "id": "S0lb4NPGP2sO"
      },
      "execution_count": null,
      "outputs": []
    },
    {
      "cell_type": "code",
      "source": [
        "masukkan_angka = int(input(\"Masukkan Angka: \"))\n",
        "\n",
        "if masukkan_angka <= 0:\n",
        "  hasil = 0\n",
        "else:\n",
        "  hasil = 2**(masukkan_angka-1)\n",
        "\n",
        "print(hasil)\n"
      ],
      "metadata": {
        "colab": {
          "base_uri": "https://localhost:8080/"
        },
        "outputId": "9b3f7538-f8de-4ce0-b02e-3c96d3af55ce",
        "id": "Ss3HKowazzh0"
      },
      "execution_count": null,
      "outputs": [
        {
          "output_type": "stream",
          "name": "stdout",
          "text": [
            "Masukkan Angka: 2\n",
            "2\n"
          ]
        }
      ]
    },
    {
      "cell_type": "code",
      "source": [],
      "metadata": {
        "id": "MvimpA3Lz0WL"
      },
      "execution_count": null,
      "outputs": []
    }
  ]
}