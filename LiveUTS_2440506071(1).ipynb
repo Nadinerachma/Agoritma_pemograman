{
  "nbformat": 4,
  "nbformat_minor": 0,
  "metadata": {
    "colab": {
      "provenance": [],
      "authorship_tag": "ABX9TyMougtOMOQ5tAEwq6d6ry8/",
      "include_colab_link": true
    },
    "kernelspec": {
      "name": "python3",
      "display_name": "Python 3"
    },
    "language_info": {
      "name": "python"
    }
  },
  "cells": [
    {
      "cell_type": "markdown",
      "metadata": {
        "id": "view-in-github",
        "colab_type": "text"
      },
      "source": [
        "<a href=\"https://colab.research.google.com/github/Nadinerachma/Agoritma_pemograman/blob/main/LiveUTS_2440506071(1).ipynb\" target=\"_parent\"><img src=\"https://colab.research.google.com/assets/colab-badge.svg\" alt=\"Open In Colab\"/></a>"
      ]
    },
    {
      "cell_type": "code",
      "source": [
        "jumlah_baris = int(input(\"Masukkan jumlah baris: \"))\n",
        "for i in range(1, jumlah_baris + 1):\n",
        "  for j in range(1, i + 1):\n",
        "    print(i * j, end=\" \")\n",
        "    print()\n",
        "\n"
      ],
      "metadata": {
        "id": "QDvNqExLVVPN",
        "colab": {
          "base_uri": "https://localhost:8080/"
        },
        "outputId": "8f7deb25-a5e3-4409-bd63-acb2e54251ee"
      },
      "execution_count": null,
      "outputs": [
        {
          "output_type": "stream",
          "name": "stdout",
          "text": [
            "Masukkan jumlah baris: 5\n",
            "1 \n",
            "2 \n",
            "4 \n",
            "3 \n",
            "6 \n",
            "9 \n",
            "4 \n",
            "8 \n",
            "12 \n",
            "16 \n",
            "5 \n",
            "10 \n",
            "15 \n",
            "20 \n",
            "25 \n"
          ]
        }
      ]
    },
    {
      "cell_type": "code",
      "source": [],
      "metadata": {
        "id": "HujEgUN6cz-O"
      },
      "execution_count": null,
      "outputs": []
    }
  ]
}