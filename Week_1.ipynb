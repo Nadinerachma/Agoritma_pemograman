{
  "nbformat": 4,
  "nbformat_minor": 0,
  "metadata": {
    "colab": {
      "provenance": [],
      "authorship_tag": "ABX9TyNR/QyFAerfQB/J0CkcFkZY",
      "include_colab_link": true
    },
    "kernelspec": {
      "name": "python3",
      "display_name": "Python 3"
    },
    "language_info": {
      "name": "python"
    }
  },
  "cells": [
    {
      "cell_type": "markdown",
      "metadata": {
        "id": "view-in-github",
        "colab_type": "text"
      },
      "source": [
        "<a href=\"https://colab.research.google.com/github/Nadinerachma/Agoritma_pemograman/blob/main/Week_1.ipynb\" target=\"_parent\"><img src=\"https://colab.research.google.com/assets/colab-badge.svg\" alt=\"Open In Colab\"/></a>"
      ]
    },
    {
      "cell_type": "markdown",
      "source": [],
      "metadata": {
        "id": "97te3FGHPmGW"
      }
    },
    {
      "cell_type": "markdown",
      "source": [
        "# **Weekly Exercise 1**"
      ],
      "metadata": {
        "id": "ZA1FN7FVLoYl"
      }
    },
    {
      "cell_type": "code",
      "source": [
        "print('Nama           : Nadine Rachma Wijaya')\n",
        "print('NPM            : 2440506071')\n",
        "print('Alamat         : Dusun Krajan RT/RW 003/002 Kecamatan Bandongan Kabupaten Magelang')\n",
        "print('Tinggi Badan   : 152 cm')\n",
        "print('Berat Badan    : 38 kg')"
      ],
      "metadata": {
        "colab": {
          "base_uri": "https://localhost:8080/"
        },
        "id": "XWg6HLEzMPuk",
        "outputId": "6420a707-afb9-451f-f1d4-c386e7457d63"
      },
      "execution_count": null,
      "outputs": [
        {
          "output_type": "stream",
          "name": "stdout",
          "text": [
            "Nama           : Nadine Rachma Wijaya\n",
            "NPM            : 2440506071\n",
            "Alamat         : Dusun Krajan RT/RW 003/002 Kecamatan Bandongan Kabupaten Magelang\n",
            "Tinggi Badan   : 152 cm\n",
            "Berat Badan    : 38 kg\n"
          ]
        }
      ]
    },
    {
      "cell_type": "code",
      "source": [],
      "metadata": {
        "id": "eR4WwenwMdhl"
      },
      "execution_count": null,
      "outputs": []
    },
    {
      "cell_type": "markdown",
      "source": [
        "# **Weekly Exercise 2**"
      ],
      "metadata": {
        "id": "c3nOeOb1Nv8E"
      }
    },
    {
      "cell_type": "code",
      "source": [
        "#buatlah sebuah program untuk menampilkan tulisan berikut ini:\n",
        "print('Universitas Tidar')\n",
        "print('Universitas Tidar merupakan Perguruan Tinggi Pemerintah atau Perguruan Tinggi Negara yang telah ditetapkan Peraturan Presiden Republik Indonesia Nomor 23 Tahun 2014 pada tanggal 1 April 2014.')\n",
        "print('JURUSAN TEKNIK ELEKTRO, MEKATRONIKA DAN INFORMASI')\n",
        "print('Jurusan Teknik Elektro terdiri atas tiga program studi, antara lain:')\n",
        "print('1. S1 Teknik Elektro (Bachelor of Electrical Engineering')\n",
        "print('2. S1 Teknologi Informasi (Bachelor of Electrical Engineering')\n",
        "print('3. S1 Teknik Mekatronika (Bachelor of Mechatronics Engineering')"
      ],
      "metadata": {
        "colab": {
          "base_uri": "https://localhost:8080/"
        },
        "id": "Cw7HkI0HQyWN",
        "outputId": "f892c2f7-b7fd-434b-d138-22f6f891a327"
      },
      "execution_count": 2,
      "outputs": [
        {
          "output_type": "stream",
          "name": "stdout",
          "text": [
            "Universitas Tidar\n",
            "Universitas Tidar merupakan Perguruan Tinggi Pemerintah atau Perguruan Tinggi Negara yang telah ditetapkan Peraturan Presiden Republik Indonesia Nomor 23 Tahun 2014 pada tanggal 1 April 2014.\n",
            "JURUSAN TEKNIK ELEKTRO, MEKATRONIKA DAN INFORMASI\n",
            "Jurusan Teknik Elektro terdiri atas tiga program studi, antara lain:\n",
            "1. S1 Teknik Elektro (Bachelor of Electrical Engineering\n",
            "2. S1 Teknologi Informasi (Bachelor of Electrical Engineering\n",
            "3. S1 Teknik Mekatronika (Bachelor of Mechatronics Engineering\n"
          ]
        }
      ]
    },
    {
      "cell_type": "code",
      "source": [],
      "metadata": {
        "id": "u8oHKEYH9tMB"
      },
      "execution_count": null,
      "outputs": []
    }
  ]
}