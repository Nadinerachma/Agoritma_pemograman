{
  "nbformat": 4,
  "nbformat_minor": 0,
  "metadata": {
    "colab": {
      "provenance": [],
      "authorship_tag": "ABX9TyN88UdaovtNrCck2hWrjgeE",
      "include_colab_link": true
    },
    "kernelspec": {
      "name": "python3",
      "display_name": "Python 3"
    },
    "language_info": {
      "name": "python"
    }
  },
  "cells": [
    {
      "cell_type": "markdown",
      "metadata": {
        "id": "view-in-github",
        "colab_type": "text"
      },
      "source": [
        "<a href=\"https://colab.research.google.com/github/Nadinerachma/Agoritma_pemograman/blob/main/Week_12.ipynb\" target=\"_parent\"><img src=\"https://colab.research.google.com/assets/colab-badge.svg\" alt=\"Open In Colab\"/></a>"
      ]
    },
    {
      "cell_type": "markdown",
      "source": [
        "# Weekly Exercise 1"
      ],
      "metadata": {
        "id": "a2mjcx7lmaG8"
      }
    },
    {
      "cell_type": "code",
      "source": [
        "while True:\n",
        "    try:\n",
        "        panjang = input(\"Masukkan panjang: \")\n",
        "        if not panjang:\n",
        "            raise ValueError(\"Input panjang tidak boleh kosong.\")\n",
        "        panjang = int(panjang)\n",
        "\n",
        "        lebar = input(\"Masukkan lebar: \")\n",
        "        if not lebar:\n",
        "            raise ValueError(\"Input lebar tidak boleh kosong.\")\n",
        "        lebar = int(lebar)\n",
        "\n",
        "        luas = panjang * lebar\n",
        "        print(\"Luas persegi panjang:\", luas)\n",
        "        break\n",
        "    except ValueError as e:\n",
        "        print(e)\n",
        "    except Exception:\n",
        "        print(\"Hanya boleh memasukkan angka.\")\n"
      ],
      "metadata": {
        "colab": {
          "base_uri": "https://localhost:8080/"
        },
        "id": "0GOuUKLEbXcS",
        "outputId": "87f416c0-a42d-416f-a214-40abb0e63f26"
      },
      "execution_count": null,
      "outputs": [
        {
          "output_type": "stream",
          "name": "stdout",
          "text": [
            "Masukkan panjang: 12\n",
            "Masukkan lebar: 6\n",
            "Luas persegi panjang: 72\n"
          ]
        }
      ]
    },
    {
      "cell_type": "code",
      "source": [
        "while True:\n",
        "    try:\n",
        "        panjang = input(\"Masukkan panjang: \")\n",
        "        if not panjang:\n",
        "            raise ValueError(\"Input panjang tidak boleh kosong.\")\n",
        "        panjang = int(panjang)\n",
        "\n",
        "        lebar = input(\"Masukkan lebar: \")\n",
        "        if not lebar:\n",
        "            raise ValueError(\"Input lebar tidak boleh kosong.\")\n",
        "        lebar = int(lebar)\n",
        "\n",
        "        luas = panjang * lebar\n",
        "        print(\"Luas persegi panjang:\", luas)\n",
        "        break\n",
        "    except ValueError as e:\n",
        "        print(e)\n",
        "    except Exception:\n",
        "        print(\"Hanya boleh memasukkan angka.\")\n"
      ],
      "metadata": {
        "colab": {
          "base_uri": "https://localhost:8080/"
        },
        "outputId": "9ba42cf3-2cc3-41d3-a098-0bf1fbd179da",
        "id": "NzAK_xlAb2gD"
      },
      "execution_count": null,
      "outputs": [
        {
          "output_type": "stream",
          "name": "stdout",
          "text": [
            "Masukkan panjang: \n",
            "Input panjang tidak boleh kosong.\n",
            "Masukkan panjang: 16\n",
            "Masukkan lebar: \n",
            "Input lebar tidak boleh kosong.\n",
            "Masukkan panjang: 16\n",
            "Masukkan lebar: 8\n",
            "Luas persegi panjang: 128\n"
          ]
        }
      ]
    },
    {
      "cell_type": "markdown",
      "source": [
        "# Weekly Exercise 2"
      ],
      "metadata": {
        "id": "6fRfPnyHme8b"
      }
    },
    {
      "cell_type": "code",
      "source": [
        "while True:\n",
        "    try:\n",
        "        nama = input(\"Masukkan nama: \")\n",
        "        if not nama:\n",
        "            raise ValueError(\"Nama tidak boleh kosong.\")\n",
        "\n",
        "        npm = input(\"Masukkan NPM: \")\n",
        "        if not npm:\n",
        "            raise ValueError(\"NPM tidak boleh kosong.\")\n",
        "        if not npm.isdigit():\n",
        "            raise ValueError(\"NPM hanya boleh berisi angka.\")\n",
        "\n",
        "        ganjil = 0\n",
        "        genap = 0\n",
        "\n",
        "        for i in npm:\n",
        "            if int(i) % 2 == 0:\n",
        "                genap += 1\n",
        "            else:\n",
        "                ganjil += 1\n",
        "\n",
        "        print(f\"Nama: {nama}\")\n",
        "        print(f\"Jumlah bilangan genap pada NPM: {genap}\")\n",
        "        print(f\"Jumlah bilangan ganjil pada NPM: {ganjil}\")\n",
        "        break\n",
        "\n",
        "    except ValueError as e:\n",
        "        print(e)\n",
        "    except Exception:\n",
        "        print(\"Terjadi kesalahan yang tidak terduga.\")\n"
      ],
      "metadata": {
        "colab": {
          "base_uri": "https://localhost:8080/"
        },
        "id": "aw-nOigYdoMh",
        "outputId": "1001cd46-00cb-4238-96e9-5e702078078c"
      },
      "execution_count": null,
      "outputs": [
        {
          "output_type": "stream",
          "name": "stdout",
          "text": [
            "Masukkan nama: Nadine\n",
            "Masukkan NPM: 2440506071\n",
            "Nama: Nadine\n",
            "Jumlah bilangan genap pada NPM: 7\n",
            "Jumlah bilangan ganjil pada NPM: 3\n"
          ]
        }
      ]
    },
    {
      "cell_type": "code",
      "source": [
        "while True:\n",
        "    try:\n",
        "        nama = input(\"Masukkan nama: \")\n",
        "        if not nama:\n",
        "            raise ValueError(\"Nama tidak boleh kosong.\")\n",
        "\n",
        "        npm = input(\"Masukkan NPM: \")\n",
        "        if not npm:\n",
        "            raise ValueError(\"NPM tidak boleh kosong.\")\n",
        "        if not npm.isdigit():\n",
        "            raise ValueError(\"NPM hanya boleh berisi angka.\")\n",
        "\n",
        "        ganjil = 0\n",
        "        genap = 0\n",
        "\n",
        "        for i in npm:\n",
        "            if int(i) % 2 == 0:\n",
        "                genap += 1\n",
        "            else:\n",
        "                ganjil += 1\n",
        "\n",
        "        print(f\"Nama: {nama}\")\n",
        "        print(f\"Jumlah bilangan genap pada NPM: {genap}\")\n",
        "        print(f\"Jumlah bilangan ganjil pada NPM: {ganjil}\")\n",
        "        break\n",
        "\n",
        "    except ValueError as e:\n",
        "        print(e)\n",
        "    except Exception:\n",
        "        print(\"Terjadi kesalahan yang tidak terduga.\")\n"
      ],
      "metadata": {
        "colab": {
          "base_uri": "https://localhost:8080/"
        },
        "outputId": "47d9d1bf-3bd2-4a56-a10a-83c600649415",
        "id": "BY2MoNgEd-xQ"
      },
      "execution_count": null,
      "outputs": [
        {
          "output_type": "stream",
          "name": "stdout",
          "text": [
            "Masukkan nama: \n",
            "Nama tidak boleh kosong.\n",
            "Masukkan nama: Nadine\n",
            "Masukkan NPM: \n",
            "NPM tidak boleh kosong.\n",
            "Masukkan nama: Nadine\n",
            "Masukkan NPM: 2440506071\n",
            "Nama: Nadine\n",
            "Jumlah bilangan genap pada NPM: 7\n",
            "Jumlah bilangan ganjil pada NPM: 3\n"
          ]
        }
      ]
    }
  ]
}