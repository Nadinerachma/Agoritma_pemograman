{
  "nbformat": 4,
  "nbformat_minor": 0,
  "metadata": {
    "colab": {
      "provenance": [],
      "authorship_tag": "ABX9TyMHE+p9pLawNk4R1jkph2iQ",
      "include_colab_link": true
    },
    "kernelspec": {
      "name": "python3",
      "display_name": "Python 3"
    },
    "language_info": {
      "name": "python"
    }
  },
  "cells": [
    {
      "cell_type": "markdown",
      "metadata": {
        "id": "view-in-github",
        "colab_type": "text"
      },
      "source": [
        "<a href=\"https://colab.research.google.com/github/Nadinerachma/Agoritma_pemograman/blob/main/Week_10.ipynb\" target=\"_parent\"><img src=\"https://colab.research.google.com/assets/colab-badge.svg\" alt=\"Open In Colab\"/></a>"
      ]
    },
    {
      "cell_type": "markdown",
      "source": [
        "# Weekly Exercise 1"
      ],
      "metadata": {
        "id": "83lxwvyfa0U5"
      }
    },
    {
      "cell_type": "code",
      "source": [
        "try:\n",
        "    bilangan = int(input(\"Masukkan bilangan bulat positif: \"))\n",
        "    if bilangan < 0:\n",
        "        print(\"Faktorial hanya didefinisikan untuk bilangan bulat non-negatif.\")\n",
        "    else:\n",
        "        faktorial = 1\n",
        "        # Menghitung faktorial menggunakan iterasi\n",
        "        for i in range(1, bilangan + 1):\n",
        "            faktorial *= i\n",
        "        print(f\"Nilai faktorial dari {bilangan} adalah: {faktorial}\")\n",
        "except ValueError:\n",
        "    print(\"Harap masukkan bilangan bulat positif yang valid.\")\n"
      ],
      "metadata": {
        "colab": {
          "base_uri": "https://localhost:8080/"
        },
        "id": "dicpY7bthf4g",
        "outputId": "dff1bc2a-d4a5-418c-fb4f-e547bdb12b26"
      },
      "execution_count": null,
      "outputs": [
        {
          "output_type": "stream",
          "name": "stdout",
          "text": [
            "Masukkan bilangan bulat positif: 6\n",
            "Nilai faktorial dari 6 adalah: 720\n"
          ]
        }
      ]
    },
    {
      "cell_type": "code",
      "source": [
        "def faktorial(x):\n",
        "    if x == 0 or x == 1:\n",
        "        return 1\n",
        "    else:\n",
        "        return x * faktorial(x - 1)\n",
        "\n",
        "try:\n",
        "    bilangan = int(input(\"Masukkan bilangan bulat positif: \"))\n",
        "    if bilangan < 0:\n",
        "        print(\"Faktorial hanya didefinisikan untuk bilangan bulat non-negatif.\")\n",
        "    else:\n",
        "        hasil = faktorial(bilangan)\n",
        "        print(f\"Nilai faktorial dari {bilangan} adalah: {hasil}\")\n",
        "except ValueError:\n",
        "    print(\"Harap masukkan bilangan bulat positif yang valid.\")\n"
      ],
      "metadata": {
        "colab": {
          "base_uri": "https://localhost:8080/"
        },
        "id": "ceS5_4U0h4OK",
        "outputId": "cc67cbeb-f1a9-41b9-e2b0-e53b2ab9822d"
      },
      "execution_count": null,
      "outputs": [
        {
          "output_type": "stream",
          "name": "stdout",
          "text": [
            "Masukkan bilangan bulat positif: 12\n",
            "Nilai faktorial dari 12 adalah: 479001600\n"
          ]
        }
      ]
    },
    {
      "cell_type": "markdown",
      "source": [
        "# Weekly Exercise 2"
      ],
      "metadata": {
        "id": "KG7iIS8Ua7cI"
      }
    },
    {
      "cell_type": "code",
      "source": [
        "import math\n",
        "\n",
        "while True:\n",
        "    print(\"\\nKalkulator Luas Bangun Datar\")\n",
        "    print(\"1. Hitung luas lingkaran\")\n",
        "    print(\"2. Hitung luas persegi\")\n",
        "    print(\"3. Hitung luas segitiga\")\n",
        "    print(\"4. Keluar\")\n",
        "\n",
        "    pilihan = input(\"Pilih opsi (1/2/3/4): \")\n",
        "\n",
        "    if pilihan == \"1\":\n",
        "        radius = float(input(\"Masukkan jari-jari lingkaran: \"))\n",
        "        luas = math.pi * radius ** 2\n",
        "        print(f\"Luas lingkaran dengan jari-jari {radius} adalah: {luas:.2f}\")\n",
        "\n",
        "    elif pilihan == \"2\":\n",
        "        sisi = float(input(\"Masukkan panjang sisi persegi: \"))\n",
        "        luas = sisi ** 2\n",
        "        print(f\"Luas persegi dengan sisi {sisi} adalah: {luas:.2f}\")\n",
        "\n",
        "    elif pilihan == \"3\":\n",
        "        alas = float(input(\"Masukkan panjang alas segitiga: \"))\n",
        "        tinggi = float(input(\"Masukkan tinggi segitiga: \"))\n",
        "        luas = 0.5 * alas * tinggi\n",
        "        print(f\"Luas segitiga dengan alas {alas} dan tinggi {tinggi} adalah: {luas:.2f}\")\n",
        "\n",
        "    elif pilihan == \"4\":\n",
        "        print(\"Terima kasih telah menggunakan program ini. Sampai jumpa!\")\n",
        "        break\n",
        "\n",
        "    else:\n",
        "        print(\"Pilihan tidak valid, silakan coba lagi.\")\n"
      ],
      "metadata": {
        "colab": {
          "base_uri": "https://localhost:8080/"
        },
        "id": "707IHU8UgXs1",
        "outputId": "a03c90ff-3cdb-4230-d9bd-4b916bbb6370"
      },
      "execution_count": null,
      "outputs": [
        {
          "output_type": "stream",
          "name": "stdout",
          "text": [
            "\n",
            "Kalkulator Luas Bangun Datar\n",
            "1. Hitung luas lingkaran\n",
            "2. Hitung luas persegi\n",
            "3. Hitung luas segitiga\n",
            "4. Keluar\n",
            "Pilih opsi (1/2/3/4): 2\n",
            "Masukkan panjang sisi persegi: 6\n",
            "Luas persegi dengan sisi 6.0 adalah: 36.00\n",
            "\n",
            "Kalkulator Luas Bangun Datar\n",
            "1. Hitung luas lingkaran\n",
            "2. Hitung luas persegi\n",
            "3. Hitung luas segitiga\n",
            "4. Keluar\n",
            "Pilih opsi (1/2/3/4): 1\n",
            "Masukkan jari-jari lingkaran: 7\n",
            "Luas lingkaran dengan jari-jari 7.0 adalah: 153.94\n",
            "\n",
            "Kalkulator Luas Bangun Datar\n",
            "1. Hitung luas lingkaran\n",
            "2. Hitung luas persegi\n",
            "3. Hitung luas segitiga\n",
            "4. Keluar\n",
            "Pilih opsi (1/2/3/4): 3\n",
            "Masukkan panjang alas segitiga: 3\n",
            "Masukkan tinggi segitiga: 6\n",
            "Luas segitiga dengan alas 3.0 dan tinggi 6.0 adalah: 9.00\n",
            "\n",
            "Kalkulator Luas Bangun Datar\n",
            "1. Hitung luas lingkaran\n",
            "2. Hitung luas persegi\n",
            "3. Hitung luas segitiga\n",
            "4. Keluar\n",
            "Pilih opsi (1/2/3/4): 4\n",
            "Terima kasih telah menggunakan program ini. Sampai jumpa!\n"
          ]
        }
      ]
    },
    {
      "cell_type": "code",
      "source": [],
      "metadata": {
        "id": "fWDkEXJEgYeW"
      },
      "execution_count": null,
      "outputs": []
    }
  ]
}