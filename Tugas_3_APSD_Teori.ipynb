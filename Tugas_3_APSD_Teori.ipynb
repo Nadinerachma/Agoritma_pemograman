{
  "nbformat": 4,
  "nbformat_minor": 0,
  "metadata": {
    "colab": {
      "provenance": [],
      "authorship_tag": "ABX9TyMx0Nj/OUOZ+ZiXqs1AKts8",
      "include_colab_link": true
    },
    "kernelspec": {
      "name": "python3",
      "display_name": "Python 3"
    },
    "language_info": {
      "name": "python"
    }
  },
  "cells": [
    {
      "cell_type": "markdown",
      "metadata": {
        "id": "view-in-github",
        "colab_type": "text"
      },
      "source": [
        "<a href=\"https://colab.research.google.com/github/Nadinerachma/Agoritma_pemograman/blob/main/Tugas_3_APSD_Teori.ipynb\" target=\"_parent\"><img src=\"https://colab.research.google.com/assets/colab-badge.svg\" alt=\"Open In Colab\"/></a>"
      ]
    },
    {
      "cell_type": "code",
      "source": [
        "#Membuat pseudocode sampai menghasilkan output seperti yang telah diberikan\n",
        "def binarySearchMultiple(arr, x):\n",
        "    low = 0\n",
        "    high = len(arr) - 1\n",
        "    result = []\n",
        "\n",
        "    while low <= high:\n",
        "        mid = (low + high) // 2\n",
        "\n",
        "        if arr[mid] == x:\n",
        "            #Menambahkan indeks mid ke dalam hasil\n",
        "            result.append(mid)\n",
        "\n",
        "            #Mencari ke kiri dari mid\n",
        "            i = mid - 1\n",
        "            while i >= 0 and arr[i] == x:\n",
        "                result.append(i)\n",
        "                i -= 1\n",
        "\n",
        "            #Mencari ke kanan dari mid\n",
        "            i = mid + 1\n",
        "            while i < len(arr) and arr[i] == x:\n",
        "                result.append(i)\n",
        "                i += 1\n",
        "\n",
        "            return sorted(result)\n",
        "\n",
        "        elif arr[mid] < x:\n",
        "            low = mid + 1\n",
        "        else:\n",
        "            high = mid - 1\n",
        "\n",
        "    return \"Nilai tidak ditemukan\"\n",
        "\n",
        "#Pemanggilan fungsi\n",
        "arr = [10, 14, 19, 26, 26, 27, 31, 33, 35, 42]\n",
        "x = 26\n",
        "indices = binarySearchMultiple(arr, x)\n",
        "print(\"Nilai\", x, \"terletak pada indeks\", indices)\n"
      ],
      "metadata": {
        "colab": {
          "base_uri": "https://localhost:8080/"
        },
        "id": "k7cvRl5a0kZJ",
        "outputId": "6196f5b2-c0cb-429c-ed53-b92e2fdc0eed"
      },
      "execution_count": 1,
      "outputs": [
        {
          "output_type": "stream",
          "name": "stdout",
          "text": [
            "Nilai 26 terletak pada indeks [3, 4]\n"
          ]
        }
      ]
    }
  ]
}