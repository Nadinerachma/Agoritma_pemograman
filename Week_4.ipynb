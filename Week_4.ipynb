{
  "nbformat": 4,
  "nbformat_minor": 0,
  "metadata": {
    "colab": {
      "provenance": [],
      "authorship_tag": "ABX9TyOAhBvWWTjU7xGHySb2BDbS",
      "include_colab_link": true
    },
    "kernelspec": {
      "name": "python3",
      "display_name": "Python 3"
    },
    "language_info": {
      "name": "python"
    }
  },
  "cells": [
    {
      "cell_type": "markdown",
      "metadata": {
        "id": "view-in-github",
        "colab_type": "text"
      },
      "source": [
        "<a href=\"https://colab.research.google.com/github/Nadinerachma/Agoritma_pemograman/blob/main/Week_4.ipynb\" target=\"_parent\"><img src=\"https://colab.research.google.com/assets/colab-badge.svg\" alt=\"Open In Colab\"/></a>"
      ]
    },
    {
      "cell_type": "markdown",
      "source": [
        "**Condition Statements**"
      ],
      "metadata": {
        "id": "Oxx1Bv3xAnct"
      }
    },
    {
      "cell_type": "code",
      "execution_count": null,
      "metadata": {
        "colab": {
          "base_uri": "https://localhost:8080/"
        },
        "id": "91U2mL1N_J30",
        "outputId": "5d0d627c-fe56-4499-bd36-972834405287"
      },
      "outputs": [
        {
          "output_type": "execute_result",
          "data": {
            "text/plain": [
              "False"
            ]
          },
          "metadata": {},
          "execution_count": 3
        }
      ],
      "source": [
        "a = 5\n",
        "a == 6"
      ]
    },
    {
      "cell_type": "markdown",
      "source": [
        "**Weekly Exercise 1**"
      ],
      "metadata": {
        "id": "nCjGt_p6BbM0"
      }
    },
    {
      "cell_type": "code",
      "source": [
        "#Membuat kode program berdasarkan flowchart yang diberikan\n",
        "\n",
        "#Fungsi\n",
        "def cek_umur_sim(umur):\n",
        "  if umur >= 17:\n",
        "    return \"Boleh membuat SIM\"\n",
        "  else:\n",
        "    return \"Belum boleh membuat SIM\"\n",
        "\n",
        "#Meminta input data\n",
        "try:\n",
        "  umur = int(input(\"Masukkan umur Anda: \"))\n",
        "  hasil = cek_umur_sim(umur)\n",
        "  print(hasil)\n",
        "except ValueError:\n",
        "  print(\"Masukkan umur Anda yang valid dalam angka.\")"
      ],
      "metadata": {
        "colab": {
          "base_uri": "https://localhost:8080/"
        },
        "id": "BWDKM8KKLNWb",
        "outputId": "9b707c19-6eb1-4442-c1bb-460538273b35"
      },
      "execution_count": null,
      "outputs": [
        {
          "output_type": "stream",
          "name": "stdout",
          "text": [
            "Masukkan umur Anda: 18\n",
            "Boleh membuat SIM\n"
          ]
        }
      ]
    },
    {
      "cell_type": "markdown",
      "source": [
        "**Weekly Exercise 2**"
      ],
      "metadata": {
        "id": "HF_OP_wxGkgU"
      }
    },
    {
      "cell_type": "code",
      "source": [
        "#Membuat kode program berdasarkan flowchart yang diberikan\n",
        "\n",
        "#Fungsi\n",
        "def cek_nilai(nilai):\n",
        "  if nilai >= 90:\n",
        "    return \"Anda mendapat nilai A\"\n",
        "  elif nilai >= 80:\n",
        "    return \"Anda mendapat nilai B+\"\n",
        "  elif nilai >= 70:\n",
        "    return \"Anda mendapat nilai B\"\n",
        "  elif nilai >= 60:\n",
        "    return \"Anda mendapat nilai C+\"\n",
        "  elif nilai >= 50:\n",
        "    return \"Anda mendapat nilai C\"\n",
        "  elif nilai >= 40:\n",
        "    return \"Anda mendapat nilai D\"\n",
        "  else:\n",
        "    return \"Anda mendapat nilai E\"\n",
        "\n",
        "#Meminta input data\n",
        "try:\n",
        "  nilai = int(input(\"Masukkan nilai Anda: \"))\n",
        "  hasil = cek_nilai(nilai)\n",
        "  print(hasil)\n",
        "except ValueError:\n",
        "  print(\"Masukkan nilai Anda yang valid dalam angka\")"
      ],
      "metadata": {
        "colab": {
          "base_uri": "https://localhost:8080/"
        },
        "id": "gyYLoZnZGizk",
        "outputId": "1250c2e7-c64d-4f79-ce85-1d1d017a62ab"
      },
      "execution_count": null,
      "outputs": [
        {
          "output_type": "stream",
          "name": "stdout",
          "text": [
            "Masukkan nilai Anda: 91\n",
            "Anda mendapat nilai A\n"
          ]
        }
      ]
    },
    {
      "cell_type": "markdown",
      "source": [
        "**Week Exercise 3**"
      ],
      "metadata": {
        "id": "QyW_270rO5ok"
      }
    },
    {
      "cell_type": "code",
      "source": [
        "#Memodifikasi kode program week exercise 2 dengan memenuhi ketentuan yang diberikan\n",
        "\n",
        "#Fungsi\n",
        "nilai = int(input(\"Masukkan nilai Anda: \"))\n",
        "if 80.00 < nilai < 100:\n",
        "  print(\"Anda mendapat nilai A\")\n",
        "elif 77.50 < nilai < 79.99:\n",
        "  print(\"Anda mendapat nilai A-\")\n",
        "elif 75.00 < nilai < 77.49:\n",
        "  print(\"Anda mendapat nilai A/B\")\n",
        "elif 72.50 < nilai < 74.99:\n",
        "  print(\"Anda mendapat nilai B+\")\n",
        "elif 70.00 < nilai < 72.49:\n",
        "  print(\"Anda mendapat nilai B\")\n",
        "elif 67.50 < nilai < 69.99:\n",
        "  print(\"Anda mendapat nilai B-\")\n",
        "elif 65.00 < nilai < 67.49:\n",
        "  print(\"Anda mendapat nilai B/C\")\n",
        "elif 62.50 < nilai < 64.99:\n",
        "  print(\"Anda mendapat nilai C+\")\n",
        "elif 60.00 < nilai < 62.49:\n",
        "  print(\"Anda mendapat nilai C\")\n",
        "elif 55.00 < nilai < 59.99:\n",
        "  print(\"Anda mendapat nilai C-\")\n",
        "elif 50.00 < nilai < 54.99:\n",
        "  print(\"Anda mendapat nilai C/D\")\n",
        "elif 45.00 < nilai < 49.99:\n",
        "  print(\"Anda mendapat nilai D+\")\n",
        "elif 40.00 < nilai < 44.99:\n",
        "  print(\"Anda mendapat nilai D\")\n",
        "elif 0.00 < nilai < 40.00:\n",
        "  print(\"Anda mendapat nilai E\")\n",
        "else:\n",
        "  print(\"Masukkan nilai yang valid dengan angka\")"
      ],
      "metadata": {
        "colab": {
          "base_uri": "https://localhost:8080/"
        },
        "id": "G0DvrKDJOzdT",
        "outputId": "090855d4-1c6e-4ef1-e753-92b3ed886ec1"
      },
      "execution_count": null,
      "outputs": [
        {
          "output_type": "stream",
          "name": "stdout",
          "text": [
            "Masukkan nilai Anda: 85\n",
            "Anda mendapat nilai A\n"
          ]
        }
      ]
    },
    {
      "cell_type": "code",
      "source": [],
      "metadata": {
        "id": "9ajYZLVwThat"
      },
      "execution_count": null,
      "outputs": []
    },
    {
      "cell_type": "markdown",
      "source": [
        "# Latihan"
      ],
      "metadata": {
        "id": "_wltb-uNV1Ri"
      }
    },
    {
      "cell_type": "code",
      "source": [
        "x = 10\n",
        "y = 5\n",
        "\n",
        "print(x > y) #True\n",
        "print(x == y) #False"
      ],
      "metadata": {
        "colab": {
          "base_uri": "https://localhost:8080/"
        },
        "id": "2b3HLmd9V3Hp",
        "outputId": "3da2f7f6-f5cc-45c8-a57d-f939c5845637"
      },
      "execution_count": null,
      "outputs": [
        {
          "output_type": "stream",
          "name": "stdout",
          "text": [
            "True\n",
            "False\n"
          ]
        }
      ]
    },
    {
      "cell_type": "code",
      "source": [
        "umur = 18\n",
        "if umur >= 17:\n",
        "  print(\"Boleh membuat SIM\")\n",
        "else:\n",
        "  print(\"Belum boleh membuat SIM\")"
      ],
      "metadata": {
        "colab": {
          "base_uri": "https://localhost:8080/"
        },
        "id": "PsU83Me0Xtoo",
        "outputId": "9eb75d23-9877-4159-89e9-e84abe9f0746"
      },
      "execution_count": null,
      "outputs": [
        {
          "output_type": "stream",
          "name": "stdout",
          "text": [
            "Boleh membuat SIM\n"
          ]
        }
      ]
    },
    {
      "cell_type": "code",
      "source": [],
      "metadata": {
        "id": "Ye_aBaWVZ9ba"
      },
      "execution_count": null,
      "outputs": []
    }
  ]
}