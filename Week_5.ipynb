{
  "nbformat": 4,
  "nbformat_minor": 0,
  "metadata": {
    "colab": {
      "provenance": [],
      "authorship_tag": "ABX9TyMOrVzTKuwFqRaflZvJQHdY",
      "include_colab_link": true
    },
    "kernelspec": {
      "name": "python3",
      "display_name": "Python 3"
    },
    "language_info": {
      "name": "python"
    }
  },
  "cells": [
    {
      "cell_type": "markdown",
      "metadata": {
        "id": "view-in-github",
        "colab_type": "text"
      },
      "source": [
        "<a href=\"https://colab.research.google.com/github/Nadinerachma/Agoritma_pemograman/blob/main/Week_5.ipynb\" target=\"_parent\"><img src=\"https://colab.research.google.com/assets/colab-badge.svg\" alt=\"Open In Colab\"/></a>"
      ]
    },
    {
      "cell_type": "markdown",
      "source": [
        "# Weekly Exercise 1"
      ],
      "metadata": {
        "id": "XwFcrXb6FunH"
      }
    },
    {
      "cell_type": "code",
      "source": [
        "#Meminta input tahun dari user\n",
        "cek_tahun_kabisat = int(input(\"Masukkan Tahun: \"))\n",
        "\n",
        "#Mengecek apakah tahun kabisat\n",
        "if cek_tahun_kabisat % 400 == 0:\n",
        "    print(\"Tahun Kabisat\")\n",
        "elif cek_tahun_kabisat % 100 == 0:\n",
        "    print(\"Bukan Tahun Kabisat\")\n",
        "elif cek_tahun_kabisat % 4 == 0:\n",
        "    print(\"Tahun Kabisat\")\n",
        "else:\n",
        "    print(\"Bukan Tahun Kabisat\")\n"
      ],
      "metadata": {
        "colab": {
          "base_uri": "https://localhost:8080/"
        },
        "id": "fCfan0NSKj18",
        "outputId": "454479ce-9681-46ef-93b2-1b60c0364faa"
      },
      "execution_count": 10,
      "outputs": [
        {
          "output_type": "stream",
          "name": "stdout",
          "text": [
            "Masukkan Tahun: 2006\n",
            "Bukan Tahun Kabisat\n"
          ]
        }
      ]
    },
    {
      "cell_type": "code",
      "source": [
        "#Meminta input tahun dari user\n",
        "cek_tahun_kabisat = int(input(\"Masukkan Tahun: \"))\n",
        "\n",
        "#Mengecek apakah tahun kabisat\n",
        "if cek_tahun_kabisat % 400 == 0:\n",
        "    print(\"Tahun Kabisat\")\n",
        "elif cek_tahun_kabisat % 100 == 0:\n",
        "    print(\"Bukan Tahun Kabisat\")\n",
        "elif cek_tahun_kabisat % 4 == 0:\n",
        "    print(\"Tahun Kabisat\")\n",
        "else:\n",
        "    print(\"Bukan Tahun Kabisat\")\n"
      ],
      "metadata": {
        "colab": {
          "base_uri": "https://localhost:8080/"
        },
        "id": "4zoioxkjKnPr",
        "outputId": "6f84b8ba-c41f-4ee1-9308-70402b23b181"
      },
      "execution_count": 11,
      "outputs": [
        {
          "output_type": "stream",
          "name": "stdout",
          "text": [
            "Masukkan Tahun: 2012\n",
            "Tahun Kabisat\n"
          ]
        }
      ]
    },
    {
      "cell_type": "markdown",
      "source": [
        "# Weekly Exercise 2"
      ],
      "metadata": {
        "id": "D6O0afh1R5HK"
      }
    },
    {
      "cell_type": "code",
      "source": [
        "#Membuat kode program untuk menunjukkan angka terbesar berdasarkan 3 angka yang di inputkan oleh user dengan ketentuan yang diperintahkan\n",
        "#Fungsi\n",
        "angka1 = int(input(\"Masukkan angka pertama: \"))\n",
        "angka2 = int(input(\"Masukkan angka kedua: \"))\n",
        "angka3 = int(input(\"Masukkan angka ketiga: \"))\n",
        "if angka1 > angka2 and angka1 > angka3:\n",
        "  print(\"Angka terbesar adalah, angka pertama\")\n",
        "elif angka2 > angka1 and angka2 > angka3:\n",
        "  print(\"Angka terbesar adalah, angka kedua\")\n",
        "elif angka3 > angka1 and angka3 > angka2:\n",
        "  print(\"Angka terbesar adalah, angka ketiga\")\n",
        "elif angka1 == angka2 and angka1 > angka3:\n",
        "  print(\"Angka terbesar adalah, angka pertama dan angka kedua\")\n",
        "elif angka1 == angka3 and angka1 > angka2:\n",
        "  print(\"Angka terbesar adalah, angka pertama dan angka ketiga\")\n",
        "elif angka2 == angka3 and angka2 > angka1:\n",
        "  print(\"Angka terbesar adalah, angka kedua dan angka ketiga\")\n",
        "elif angka1 == angka2 == angka3:\n",
        "  print(\"Semua angka sama\")\n",
        "elif angka1 == angka2:\n",
        "  print(\"Angka pertama dan angka kedua sama\")\n",
        "elif angka2 == angka3:\n",
        "  print(\"Angka kedua dan angka ketiga sama\")\n",
        "else:\n",
        "  print(\"Angka ketiga sama dengan angka pertama\")\n",
        "\n",
        "\n",
        "\n"
      ],
      "metadata": {
        "colab": {
          "base_uri": "https://localhost:8080/"
        },
        "id": "g3g8wFUDPIgV",
        "outputId": "e5efadce-37af-4fc4-b400-9b10eb490c95"
      },
      "execution_count": null,
      "outputs": [
        {
          "output_type": "stream",
          "name": "stdout",
          "text": [
            "Masukkan angka pertama: 12\n",
            "Masukkan angka kedua: 2\n",
            "Masukkan angka ketiga: 2006\n",
            "Angka terbesar adalah, angka ketiga\n"
          ]
        }
      ]
    },
    {
      "cell_type": "markdown",
      "source": [
        "# Weekly Exercise 3"
      ],
      "metadata": {
        "id": "gUrMfsZ-Yhec"
      }
    },
    {
      "cell_type": "code",
      "source": [
        "#Input total belanja dan jenis konsumen\n",
        "total_belanja = int(float(input(\"Masukkan total belanja: \")))\n",
        "merupakan_member = input(\"Apakah konsumen member? (ya/tidak): \").strip().lower() == 'ya'\n",
        "\n",
        "#Cek diskon berdasarkan total belanja\n",
        "diskon = 0\n",
        "if total_belanja > 200000:\n",
        "    diskon = 4\n",
        "elif total_belanja > 100000:\n",
        "    diskon = 3\n",
        "\n",
        "#Diskon jika konsumen adalah member\n",
        "if merupakan_member:\n",
        "    diskon += 2\n",
        "\n",
        "total_diskon = (diskon / 100) * total_belanja\n",
        "\n",
        "#Total yang harus dibayar\n",
        "total_bayar = total_belanja - total_diskon\n",
        "print(f\"Total yang harus dibayarkan: Rp {total_bayar:.2f}\")\n"
      ],
      "metadata": {
        "colab": {
          "base_uri": "https://localhost:8080/"
        },
        "id": "7AQSk9d93ojs",
        "outputId": "37d0f6f9-7765-46ec-9c95-5f325a0fc17e"
      },
      "execution_count": 8,
      "outputs": [
        {
          "output_type": "stream",
          "name": "stdout",
          "text": [
            "Masukkan total belanja: 100000\n",
            "Apakah konsumen member? (ya/tidak): ya\n",
            "Total yang harus dibayarkan: Rp 98000.00\n"
          ]
        }
      ]
    },
    {
      "cell_type": "code",
      "source": [
        "#Input total belanja dan jenis konsumen\n",
        "total_belanja = int(float(input(\"Masukkan total belanja: \")))\n",
        "merupakan_member = input(\"Apakah konsumen member? (ya/tidak): \").strip().lower() == 'ya'\n",
        "\n",
        "#Cek diskon berdasarkan total belanja\n",
        "diskon = 0\n",
        "if total_belanja > 200000:\n",
        "    diskon = 4\n",
        "elif total_belanja > 100000:\n",
        "    diskon = 3\n",
        "\n",
        "#Diskon jika konsumen adalah member\n",
        "if merupakan_member:\n",
        "    diskon += 2\n",
        "\n",
        "total_diskon = (diskon / 100) * total_belanja\n",
        "\n",
        "#Total yang harus dibayar\n",
        "total_bayar = total_belanja - total_diskon\n",
        "print(f\"Total yang harus dibayarkan: Rp {total_bayar:.2f}\")\n"
      ],
      "metadata": {
        "colab": {
          "base_uri": "https://localhost:8080/"
        },
        "id": "1w_TYiK_3RR-",
        "outputId": "a44eda8e-014c-4ef3-d61a-a6a3a92cbb71"
      },
      "execution_count": 9,
      "outputs": [
        {
          "output_type": "stream",
          "name": "stdout",
          "text": [
            "Masukkan total belanja: 150000\n",
            "Apakah konsumen member? (ya/tidak): ya\n",
            "Total yang harus dibayarkan: Rp 142500.00\n"
          ]
        }
      ]
    },
    {
      "cell_type": "code",
      "source": [
        "#Input total belanja dan jenis konsumen\n",
        "total_belanja = int(float(input(\"Masukkan total belanja: \")))\n",
        "merupakan_member = input(\"Apakah konsumen member? (ya/tidak): \").strip().lower() == 'ya'\n",
        "\n",
        "#Cek diskon berdasarkan total belanja\n",
        "diskon = 0\n",
        "if total_belanja > 200000:\n",
        "    diskon = 4\n",
        "elif total_belanja > 100000:\n",
        "    diskon = 3\n",
        "\n",
        "#Diskon jika konsumen adalah member\n",
        "if merupakan_member:\n",
        "    diskon += 2\n",
        "\n",
        "total_diskon = (diskon / 100) * total_belanja\n",
        "\n",
        "#Total yang harus dibayar\n",
        "total_bayar = total_belanja - total_diskon\n",
        "print(f\"Total yang harus dibayarkan: Rp {total_bayar:.2f}\")\n"
      ],
      "metadata": {
        "colab": {
          "base_uri": "https://localhost:8080/"
        },
        "id": "YDN4Io-Y5U1A",
        "outputId": "df8c9593-bd45-424a-f244-a8282237cfea"
      },
      "execution_count": 10,
      "outputs": [
        {
          "output_type": "stream",
          "name": "stdout",
          "text": [
            "Masukkan total belanja: 90000\n",
            "Apakah konsumen member? (ya/tidak): tidak\n",
            "Total yang harus dibayarkan: Rp 90000.00\n"
          ]
        }
      ]
    },
    {
      "cell_type": "markdown",
      "source": [
        "# Weekly Exercise 4"
      ],
      "metadata": {
        "id": "U2W-t9Pl5iaR"
      }
    },
    {
      "cell_type": "code",
      "source": [
        "membuat_user_baru = input(\"Apakah anda ingin membuat user baru? (ya/tidak): \").strip().lower() == 'ya'\n",
        "if membuat_user_baru:\n",
        "#input username, email dan password\n",
        "  username = input(\"Masukkan username: \").strip()\n",
        "  email = input(\"Masukkan email: \").strip()\n",
        "  password = input(\"Masukkan password: \").strip()\n",
        "else:\n",
        "  print(\"Terimakasih telah menggunakan aplikasi kami!\")\n",
        "\n",
        "#Cek pengisian username, email dan password\n",
        "#Daftar pesan kesalahan\n",
        "errors = []\n",
        "\n",
        "#Validasi input\n",
        "if not username:\n",
        "    errors.append(\"Username tidak boleh kosong.\")\n",
        "if \"@\" not in email:\n",
        "    errors.append(\"Email harus mengandung '@'.\")\n",
        "if len(password) <= 8:\n",
        "    errors.append(\"Password harus lebih dari 8 karakter.\")\n",
        "\n",
        "#Menampilkan hasil\n",
        "if errors:\n",
        "    print(\"User gagal dibuat karena alasan berikut:\")\n",
        "    for error in errors:\n",
        "        print(f\"- {error}\")\n",
        "else:\n",
        "    print(\"User berhasil dibuat.\")"
      ],
      "metadata": {
        "colab": {
          "base_uri": "https://localhost:8080/"
        },
        "id": "vDqhHO6C9r7h",
        "outputId": "8f2dcfa3-3736-4f41-9707-07c565c17827"
      },
      "execution_count": 6,
      "outputs": [
        {
          "output_type": "stream",
          "name": "stdout",
          "text": [
            "Apakah anda ingin membuat user baru? (ya/tidak): ya\n",
            "Masukkan username: nadinerich\n",
            "Masukkan email: apaya\n",
            "Masukkan password: nadd\n",
            "User gagal dibuat karena alasan berikut:\n",
            "- Email harus mengandung '@'.\n",
            "- Password harus lebih dari 8 karakter.\n"
          ]
        }
      ]
    },
    {
      "cell_type": "code",
      "source": [
        "membuat_user_baru = input(\"Apakah anda ingin membuat user baru? (ya/tidak): \").strip().lower() == 'ya'\n",
        "if membuat_user_baru:\n",
        "#input username, email dan password\n",
        "  username = input(\"Masukkan username: \").strip()\n",
        "  email = input(\"Masukkan email: \").strip()\n",
        "  password = input(\"Masukkan password: \").strip()\n",
        "else:\n",
        "  print(\"Terimakasih telah menggunakan aplikasi kami!\")\n",
        "\n",
        "#Cek pengisian username, email dan password\n",
        "#Daftar pesan kesalahan\n",
        "errors = []\n",
        "\n",
        "#Validasi input\n",
        "if not username:\n",
        "    errors.append(\"Username tidak boleh kosong.\")\n",
        "if \"@\" not in email:\n",
        "    errors.append(\"Email harus mengandung '@'.\")\n",
        "if len(password) <= 8:\n",
        "    errors.append(\"Password harus lebih dari 8 karakter.\")\n",
        "\n",
        "#Menampilkan hasil\n",
        "if errors:\n",
        "    print(\"User gagal dibuat karena alasan berikut:\")\n",
        "    for error in errors:\n",
        "        print(f\"- {error}\")\n",
        "else:\n",
        "    print(\"User berhasil dibuat.\")"
      ],
      "metadata": {
        "colab": {
          "base_uri": "https://localhost:8080/"
        },
        "id": "a0ueE7Ok95bQ",
        "outputId": "1efc1cee-56f6-4b99-e444-9c7dd65ef71a"
      },
      "execution_count": 7,
      "outputs": [
        {
          "output_type": "stream",
          "name": "stdout",
          "text": [
            "Apakah anda ingin membuat user baru? (ya/tidak): ya\n",
            "Masukkan username: \n",
            "Masukkan email: apaya\n",
            "Masukkan password: nadd\n",
            "User gagal dibuat karena alasan berikut:\n",
            "- Username tidak boleh kosong.\n",
            "- Email harus mengandung '@'.\n",
            "- Password harus lebih dari 8 karakter.\n"
          ]
        }
      ]
    },
    {
      "cell_type": "code",
      "source": [
        "membuat_user_baru = input(\"Apakah anda ingin membuat user baru? (ya/tidak): \").strip().lower() == 'ya'\n",
        "if membuat_user_baru:\n",
        "#input username, email dan password\n",
        "  username = input(\"Masukkan username: \").strip()\n",
        "  email = input(\"Masukkan email: \").strip()\n",
        "  password = input(\"Masukkan password: \").strip()\n",
        "else:\n",
        "  print(\"Terimakasih telah menggunakan aplikasi kami!\")\n",
        "\n",
        "#Cek pengisian username, email dan password\n",
        "#Daftar pesan kesalahan\n",
        "errors = []\n",
        "\n",
        "#Validasi input\n",
        "if not username:\n",
        "    errors.append(\"Username tidak boleh kosong.\")\n",
        "if \"@\" not in email:\n",
        "    errors.append(\"Email harus mengandung '@'.\")\n",
        "if len(password) <= 8:\n",
        "    errors.append(\"Password harus lebih dari 8 karakter.\")\n",
        "\n",
        "#Menampilkan hasil\n",
        "if errors:\n",
        "    print(\"User gagal dibuat karena alasan berikut:\")\n",
        "    for error in errors:\n",
        "        print(f\"- {error}\")\n",
        "else:\n",
        "    print(\"User berhasil dibuat.\")"
      ],
      "metadata": {
        "colab": {
          "base_uri": "https://localhost:8080/"
        },
        "id": "ayJ6jh0QHjiG",
        "outputId": "f981e0c3-e572-4dcb-d1df-a0cb56020774"
      },
      "execution_count": 8,
      "outputs": [
        {
          "output_type": "stream",
          "name": "stdout",
          "text": [
            "Apakah anda ingin membuat user baru? (ya/tidak): ya\n",
            "Masukkan username: nadinerich\n",
            "Masukkan email: nadine@wawa\n",
            "Masukkan password: nad12345\n",
            "User gagal dibuat karena alasan berikut:\n",
            "- Password harus lebih dari 8 karakter.\n"
          ]
        }
      ]
    },
    {
      "cell_type": "code",
      "source": [
        "membuat_user_baru = input(\"Apakah anda ingin membuat user baru? (ya/tidak): \").strip().lower() == 'ya'\n",
        "if membuat_user_baru:\n",
        "#input username, email dan password\n",
        "  username = input(\"Masukkan username: \").strip()\n",
        "  email = input(\"Masukkan email: \").strip()\n",
        "  password = input(\"Masukkan password: \").strip()\n",
        "else:\n",
        "  print(\"Terimakasih telah menggunakan aplikasi kami!\")\n",
        "\n",
        "#Cek pengisian username, email dan password\n",
        "#Daftar pesan kesalahan\n",
        "errors = []\n",
        "\n",
        "#Validasi input\n",
        "if not username:\n",
        "    errors.append(\"Username tidak boleh kosong.\")\n",
        "if \"@\" not in email:\n",
        "    errors.append(\"Email harus mengandung '@'.\")\n",
        "if len(password) <= 8:\n",
        "    errors.append(\"Password harus lebih dari 8 karakter.\")\n",
        "\n",
        "#Menampilkan hasil\n",
        "if errors:\n",
        "    print(\"User gagal dibuat karena alasan berikut:\")\n",
        "    for error in errors:\n",
        "        print(f\"- {error}\")\n",
        "else:\n",
        "    print(\"User berhasil dibuat.\")"
      ],
      "metadata": {
        "colab": {
          "base_uri": "https://localhost:8080/"
        },
        "id": "5D7g_u6dHsSz",
        "outputId": "d7b940d3-0a56-4b9f-bbde-35f3a7ffa4f1"
      },
      "execution_count": 9,
      "outputs": [
        {
          "output_type": "stream",
          "name": "stdout",
          "text": [
            "Apakah anda ingin membuat user baru? (ya/tidak): ya\n",
            "Masukkan username: nadinerich\n",
            "Masukkan email: apaya@wawa\n",
            "Masukkan password: nadine1234\n",
            "User berhasil dibuat.\n"
          ]
        }
      ]
    }
  ]
}