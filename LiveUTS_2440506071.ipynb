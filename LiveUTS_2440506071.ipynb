{
  "nbformat": 4,
  "nbformat_minor": 0,
  "metadata": {
    "colab": {
      "provenance": [],
      "authorship_tag": "ABX9TyOg5saUzpilwwGzCqKraJPu",
      "include_colab_link": true
    },
    "kernelspec": {
      "name": "python3",
      "display_name": "Python 3"
    },
    "language_info": {
      "name": "python"
    }
  },
  "cells": [
    {
      "cell_type": "markdown",
      "metadata": {
        "id": "view-in-github",
        "colab_type": "text"
      },
      "source": [
        "<a href=\"https://colab.research.google.com/github/Nadinerachma/Agoritma_pemograman/blob/main/LiveUTS_2440506071.ipynb\" target=\"_parent\"><img src=\"https://colab.research.google.com/assets/colab-badge.svg\" alt=\"Open In Colab\"/></a>"
      ]
    },
    {
      "cell_type": "code",
      "source": [
        "#membuat program python untuk mendeteksi jumlah bilangan ganjil dan genap pada NPM masing-masing mahasiswa\n",
        "print(\"Silahkan Masukkan NPM Anda\")\n",
        "nomor_npm = input(\"Masukkan NPM Anda: \")\n",
        "jumlah_ganjil = 0\n",
        "jumlah_genap = 0\n",
        "\n",
        "for digit in nomor_npm:\n",
        "    digit = int(digit)\n",
        "    if digit % 2 == 0:\n",
        "        jumlah_genap += 1\n",
        "    else:\n",
        "        jumlah_ganjil += 1\n",
        "\n",
        "print(\"Jumlah bilangan genap adalah: \", jumlah_genap)\n",
        "print(\"Jumlah bilangan ganjil adalah: \", jumlah_ganjil)"
      ],
      "metadata": {
        "colab": {
          "base_uri": "https://localhost:8080/"
        },
        "id": "NFVbF21oMzXV",
        "outputId": "d6269f98-58b6-43ac-ef3d-4a69856c6213"
      },
      "execution_count": null,
      "outputs": [
        {
          "output_type": "stream",
          "name": "stdout",
          "text": [
            "Silahkan Masukkan NPM Anda\n",
            "Masukkan NPM Anda: 2440506071\n",
            "Jumlah bilangan genap adalah:  7\n",
            "Jumlah bilangan ganjil adalah:  3\n"
          ]
        }
      ]
    },
    {
      "cell_type": "code",
      "source": [],
      "metadata": {
        "id": "e04v-M88USlE"
      },
      "execution_count": null,
      "outputs": []
    },
    {
      "cell_type": "code",
      "source": [
        "#membuat program python untuk mendeteksi jumlah bilangan ganjil dan genap pada NPM masing-masing mahasiswa\n",
        "print(\"Silahkan Masukkan NPM Anda\")\n",
        "nomor_npm = input(\"Masukkan NPM Anda: \")\n",
        "jumlah_ganjil = 0\n",
        "jumlah_genap = 0\n",
        "\n",
        "for digit in nomor_npm:\n",
        "    digit = int(digit)\n",
        "    if digit % 2 == 0:\n",
        "        jumlah_genap += 1\n",
        "    else:\n",
        "        jumlah_ganjil += 1\n",
        "\n",
        "print(\"Jumlah bilangan genap adalah: \", jumlah_genap)\n",
        "print(\"Jumlah bilangan ganjil adalah: \", jumlah_ganjil)"
      ],
      "metadata": {
        "colab": {
          "base_uri": "https://localhost:8080/"
        },
        "outputId": "d6269f98-58b6-43ac-ef3d-4a69856c6213",
        "id": "bd64ULREobHj"
      },
      "execution_count": null,
      "outputs": [
        {
          "output_type": "stream",
          "name": "stdout",
          "text": [
            "Silahkan Masukkan NPM Anda\n",
            "Masukkan NPM Anda: 2440506071\n",
            "Jumlah bilangan genap adalah:  7\n",
            "Jumlah bilangan ganjil adalah:  3\n"
          ]
        }
      ]
    },
    {
      "cell_type": "code",
      "source": [],
      "metadata": {
        "id": "CEJfR4GFobui"
      },
      "execution_count": null,
      "outputs": []
    }
  ]
}