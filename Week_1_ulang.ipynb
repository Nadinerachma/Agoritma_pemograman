{
  "nbformat": 4,
  "nbformat_minor": 0,
  "metadata": {
    "colab": {
      "provenance": [],
      "authorship_tag": "ABX9TyM+0Jud2UJnzlTUg7Ua8Bz1",
      "include_colab_link": true
    },
    "kernelspec": {
      "name": "python3",
      "display_name": "Python 3"
    },
    "language_info": {
      "name": "python"
    }
  },
  "cells": [
    {
      "cell_type": "markdown",
      "metadata": {
        "id": "view-in-github",
        "colab_type": "text"
      },
      "source": [
        "<a href=\"https://colab.research.google.com/github/Nadinerachma/Agoritma_pemograman/blob/main/Week_1_ulang.ipynb\" target=\"_parent\"><img src=\"https://colab.research.google.com/assets/colab-badge.svg\" alt=\"Open In Colab\"/></a>"
      ]
    },
    {
      "cell_type": "markdown",
      "source": [
        "# Weekly Exercise 1"
      ],
      "metadata": {
        "id": "dsPPXrnQbqyG"
      }
    },
    {
      "cell_type": "code",
      "execution_count": null,
      "metadata": {
        "id": "mjfGVuV8Kx1i",
        "colab": {
          "base_uri": "https://localhost:8080/"
        },
        "outputId": "b573b648-b88f-48e7-d0a6-49ebd51f2dc2"
      },
      "outputs": [
        {
          "output_type": "stream",
          "name": "stdout",
          "text": [
            "Nama          :  Nadine Rachma Wijaya\n",
            "NPM           :  2440506071\n",
            "Alamat        :  Dusun Krajan RT/RW 03/02 Kecamatan Bandongan Kabupaten Magelang Jawa Tengah\n",
            "Tinggi Badan  :  154\n",
            "Berat Badan   :  39\n"
          ]
        }
      ],
      "source": [
        "#Program untuk menampilkan biodata\n",
        "nama = \"Nadine Rachma Wijaya\"\n",
        "npm = \"2440506071\"\n",
        "alamat = \"Dusun Krajan RT/RW 03/02 Kecamatan Bandongan Kabupaten Magelang Jawa Tengah\"\n",
        "tinggi_badan = 154\n",
        "berat_badan = 39\n",
        "\n",
        "# Menampilkan biodata\n",
        "print(\"Nama          : \", nama)\n",
        "print(\"NPM           : \", npm)\n",
        "print(\"Alamat        : \", alamat)\n",
        "print(\"Tinggi Badan  : \", tinggi_badan)\n",
        "print(\"Berat Badan   : \", berat_badan)\n"
      ]
    },
    {
      "cell_type": "code",
      "source": [
        "# Program untuk menampilkan biodata dengan jarak satu baris antar baris\n",
        "nama = \"Nadine Rachma Wijaya\"\n",
        "npm = \"2440506071\"\n",
        "alamat = \"Dusun Krajan RT/RW 03/02 Kecamatan Bandongan Kabupaten Magelang Jawa Tengah\"\n",
        "tinggi_badan = 154\n",
        "berat_badan = 39\n",
        "\n",
        "# Menampilkan biodata dengan jarak satu baris\n",
        "print(\"Nama          : \", nama)\n",
        "print(\"\")  # Baris kosong untuk jarak\n",
        "print(\"NPM           : \", npm)\n",
        "print(\"\")  # Baris kosong untuk jarak\n",
        "print(\"Alamat        : \", alamat)\n",
        "print(\"\")  # Baris kosong untuk jarak\n",
        "print(\"Tinggi Badan  : \", tinggi_badan)\n",
        "print(\"\")  # Baris kosong untuk jarak\n",
        "print(\"Berat Badan   : \", berat_badan)\n"
      ],
      "metadata": {
        "id": "_IruKMpPfvqp",
        "colab": {
          "base_uri": "https://localhost:8080/"
        },
        "outputId": "4e21d867-ce58-44dc-a3f5-01b2888af4f0"
      },
      "execution_count": 2,
      "outputs": [
        {
          "output_type": "stream",
          "name": "stdout",
          "text": [
            "Nama          :  Nadine Rachma Wijaya\n",
            "\n",
            "NPM           :  2440506071\n",
            "\n",
            "Alamat        :  Dusun Krajan RT/RW 03/02 Kecamatan Bandongan Kabupaten Magelang Jawa Tengah\n",
            "\n",
            "Tinggi Badan  :  154\n",
            "\n",
            "Berat Badan   :  39\n"
          ]
        }
      ]
    },
    {
      "cell_type": "markdown",
      "source": [
        "# Weekly Exercise 2"
      ],
      "metadata": {
        "id": "h4jP7I72iwe_"
      }
    },
    {
      "cell_type": "code",
      "source": [
        "#Program untuk menampilkan informasi dengan teks miring menggunakan ANSI escape codes\n",
        "\n",
        "#ANSI escape codes untuk membuat teks miring: \\x1B[3m (start italic), \\x1B[0m (reset)\n",
        "italic = \"\\x1B[3m\"\n",
        "reset = \"\\x1B[0m\"\n",
        "\n",
        "print(\"UNIVERSITAS TIDAR\")\n",
        "print(\"Universitas Tidar merupakan Perguruan Tinggi Pemerintah atau Perguruan Tinggi Negeri yang telah ditetapkan berdasarkan\")\n",
        "print(\"Peraturan Presiden Republik Indonesia Nomor 23 Tahun 2014 pada tanggal 1 April 2014.\\n\")\n",
        "\n",
        "print(\"JURUSAN TEKNIK ELEKTRO\")\n",
        "print(\"Jurusan Teknik Elektro terdiri atas tiga program studi, antara lain:\")\n",
        "print(\"    1. S1 Teknik Elektro\", italic + \"(Bachelor of Electrical Engineering)\" + reset)\n",
        "print(\"    2. S1 Teknologi Informasi\", italic + \"(Bachelor of Information Technology)\" + reset)\n",
        "print(\"    3. S1 Teknik Mekatronika\", italic + \"(Bachelor of Mechatronics Engineering)\" + reset)\n"
      ],
      "metadata": {
        "colab": {
          "base_uri": "https://localhost:8080/"
        },
        "id": "d3Pb0kFekLqk",
        "outputId": "9f099852-ed10-481f-ce68-364395d2bcc1"
      },
      "execution_count": 4,
      "outputs": [
        {
          "output_type": "stream",
          "name": "stdout",
          "text": [
            "UNIVERSITAS TIDAR\n",
            "Universitas Tidar merupakan Perguruan Tinggi Pemerintah atau Perguruan Tinggi Negeri yang telah ditetapkan berdasarkan\n",
            "Peraturan Presiden Republik Indonesia Nomor 23 Tahun 2014 pada tanggal 1 April 2014.\n",
            "\n",
            "JURUSAN TEKNIK ELEKTRO\n",
            "Jurusan Teknik Elektro terdiri atas tiga program studi, antara lain:\n",
            "    1. S1 Teknik Elektro \u001b[3m(Bachelor of Electrical Engineering)\u001b[0m\n",
            "    2. S1 Teknologi Informasi \u001b[3m(Bachelor of Information Technology)\u001b[0m\n",
            "    3. S1 Teknik Mekatronika \u001b[3m(Bachelor of Mechatronics Engineering)\u001b[0m\n"
          ]
        }
      ]
    }
  ]
}