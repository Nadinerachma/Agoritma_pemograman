{
  "nbformat": 4,
  "nbformat_minor": 0,
  "metadata": {
    "colab": {
      "provenance": [],
      "authorship_tag": "ABX9TyNGbKfDa/EZygVv0JmfwhT3",
      "include_colab_link": true
    },
    "kernelspec": {
      "name": "python3",
      "display_name": "Python 3"
    },
    "language_info": {
      "name": "python"
    }
  },
  "cells": [
    {
      "cell_type": "markdown",
      "metadata": {
        "id": "view-in-github",
        "colab_type": "text"
      },
      "source": [
        "<a href=\"https://colab.research.google.com/github/Nadinerachma/Agoritma_pemograman/blob/main/Week_9.ipynb\" target=\"_parent\"><img src=\"https://colab.research.google.com/assets/colab-badge.svg\" alt=\"Open In Colab\"/></a>"
      ]
    },
    {
      "cell_type": "markdown",
      "source": [
        "# Weekly Exercise 2"
      ],
      "metadata": {
        "id": "OBCCRTvBNb6l"
      }
    },
    {
      "cell_type": "code",
      "source": [
        "data_mahasiswa = [\n",
        "    {\n",
        "        \"Nama\": \"Nadine Rachma Wijaya\",\n",
        "        \"Kelas\": \"Rombel 4\",\n",
        "        \"Tanggal Lahir\": \"12 Februari 2006\",\n",
        "        \"No hp\": \"081548350224\",\n",
        "        \"Alamat\": \"Dusun Krajan Kec. Bandongan Kab. Magelang Jawa Tengah\",\n",
        "        \"Hobi\": [\n",
        "            \"Membaca buku fiksi\",\n",
        "            \"Mendengarkan musik\",\n",
        "            \"Bermain game\",\n",
        "            \"Memasak\"\n",
        "        ]\n",
        "    },\n",
        "\n",
        "]\n",
        "\n",
        "for mahasiswa in data_mahasiswa:\n",
        "    print(f'Nama: {mahasiswa[\"Nama\"]}')\n",
        "    print(f'Kelas: {mahasiswa[\"Kelas\"]}')\n",
        "    print(f'Tanggal Lahir: {mahasiswa[\"Tanggal Lahir\"]}')\n",
        "    print(f'No hp: {mahasiswa[\"No hp\"]}')\n",
        "    print(f'Alamat: {mahasiswa[\"Alamat\"]}')\n",
        "    print(f'Hobi:')\n",
        "    for hobi in mahasiswa[\"Hobi\"]:\n",
        "        print(f'- {hobi}')\n",
        "    print('-' * 20)"
      ],
      "metadata": {
        "colab": {
          "base_uri": "https://localhost:8080/"
        },
        "id": "5JcZKrGKamDu",
        "outputId": "738683e7-4e37-42ab-cde8-0cc306d87a47"
      },
      "execution_count": null,
      "outputs": [
        {
          "output_type": "stream",
          "name": "stdout",
          "text": [
            "Nama: Nadine Rachma Wijaya\n",
            "Kelas: Rombel 4\n",
            "Tanggal Lahir: 12 Februari 2006\n",
            "No hp: 081548350224\n",
            "Alamat: Dusun Krajan Kec. Bandongan Kab. Magelang Jawa Tengah\n",
            "Hobi:\n",
            "- Membaca buku fiksi\n",
            "- Mendengarkan musik\n",
            "- Bermain game\n",
            "- Memasak\n",
            "--------------------\n"
          ]
        }
      ]
    },
    {
      "cell_type": "code",
      "source": [
        "data_mahasiswa = [\n",
        "    {\n",
        "        \"Nama\": \"Nadine Rachma Wijaya\",\n",
        "        \"Kelas\": \"Rombel 4\",\n",
        "        \"Tanggal Lahir\": \"12 Februari 2006\",\n",
        "        \"No hp\": \"081548350224\",\n",
        "        \"Alamat\": \"Dusun Krajan Kec. Bandongan Kab. Magelang Jawa Tengah\",\n",
        "        \"Hobi\": [\n",
        "            \"Membaca buku fiksi\",\n",
        "            \"Mendengarkan musik\",\n",
        "            \"Bermain game\",\n",
        "            \"Memasak\"\n",
        "        ]\n",
        "    },\n",
        "\n",
        "]\n",
        "\n",
        "for mahasiswa in data_mahasiswa:\n",
        "    print(f'Nama: {mahasiswa[\"Nama\"]}')\n",
        "    print(f'Kelas: {mahasiswa[\"Kelas\"]}')\n",
        "    print(f'Tanggal Lahir: {mahasiswa[\"Tanggal Lahir\"]}')\n",
        "    print(f'No hp: {mahasiswa[\"No hp\"]}')\n",
        "    print(f'Alamat: {mahasiswa[\"Alamat\"]}')\n",
        "    print(f'Hobi:')\n",
        "    for hobi in mahasiswa[\"Hobi\"]:\n",
        "        print(f'- {hobi}')\n",
        "    print('-' * 20)"
      ],
      "metadata": {
        "colab": {
          "base_uri": "https://localhost:8080/"
        },
        "outputId": "738683e7-4e37-42ab-cde8-0cc306d87a47",
        "id": "292KI6zoSkCP"
      },
      "execution_count": null,
      "outputs": [
        {
          "output_type": "stream",
          "name": "stdout",
          "text": [
            "Nama: Nadine Rachma Wijaya\n",
            "Kelas: Rombel 4\n",
            "Tanggal Lahir: 12 Februari 2006\n",
            "No hp: 081548350224\n",
            "Alamat: Dusun Krajan Kec. Bandongan Kab. Magelang Jawa Tengah\n",
            "Hobi:\n",
            "- Membaca buku fiksi\n",
            "- Mendengarkan musik\n",
            "- Bermain game\n",
            "- Memasak\n",
            "--------------------\n"
          ]
        }
      ]
    },
    {
      "cell_type": "code",
      "source": [
        "data_mahasiswa = [\n",
        "    {\n",
        "        \"Nama\": \"Nadine Rachma Wijaya\",\n",
        "        \"Kelas\": \"Rombel 4\",\n",
        "        \"Tanggal Lahir\": \"12 Februari 2006\",\n",
        "        \"No hp\": \"081548350224\",\n",
        "        \"Alamat\": \"Dusun Krajan Kec. Bandongan Kab. Magelang Jawa Tengah\",\n",
        "        \"Hobi\": [\n",
        "            \"Membaca buku fiksi\",\n",
        "            \"Mendengarkan musik\",\n",
        "            \"Bermain game\",\n",
        "            \"Memasak\"\n",
        "        ]\n",
        "    },\n",
        "\n",
        "]\n",
        "\n",
        "for mahasiswa in data_mahasiswa:\n",
        "    print(f'Nama: {mahasiswa[\"Nama\"]}')\n",
        "    print(f'Kelas: {mahasiswa[\"Kelas\"]}')\n",
        "    print(f'Tanggal Lahir: {mahasiswa[\"Tanggal Lahir\"]}')\n",
        "    print(f'No hp: {mahasiswa[\"No hp\"]}')\n",
        "    print(f'Alamat: {mahasiswa[\"Alamat\"]}')\n",
        "    print(f'Hobi:')\n",
        "    for hobi in mahasiswa[\"Hobi\"]:\n",
        "        print(f'- {hobi}')\n",
        "    print('-' * 20)"
      ],
      "metadata": {
        "colab": {
          "base_uri": "https://localhost:8080/"
        },
        "outputId": "738683e7-4e37-42ab-cde8-0cc306d87a47",
        "id": "K_MaDvoDSkxg"
      },
      "execution_count": null,
      "outputs": [
        {
          "output_type": "stream",
          "name": "stdout",
          "text": [
            "Nama: Nadine Rachma Wijaya\n",
            "Kelas: Rombel 4\n",
            "Tanggal Lahir: 12 Februari 2006\n",
            "No hp: 081548350224\n",
            "Alamat: Dusun Krajan Kec. Bandongan Kab. Magelang Jawa Tengah\n",
            "Hobi:\n",
            "- Membaca buku fiksi\n",
            "- Mendengarkan musik\n",
            "- Bermain game\n",
            "- Memasak\n",
            "--------------------\n"
          ]
        }
      ]
    }
  ]
}